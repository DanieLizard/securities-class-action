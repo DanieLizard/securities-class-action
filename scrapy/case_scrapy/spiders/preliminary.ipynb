{
 "cells": [
  {
   "cell_type": "code",
   "execution_count": 4,
   "metadata": {},
   "outputs": [],
   "source": [
    "import scrapy\n",
    "from selenium import webdriver\n",
    "import requests\n",
    "from bs4 import BeautifulSoup\n",
    "import pandas as pd\n",
    "import sys\n",
    "sys.path.append(\"../..\")\n",
    "from case_scrapy.items import case_Items\n",
    "from selenium.webdriver.support.ui import Select\n",
    "from scrapy import Selector\n",
    "import json\n",
    "import re\n",
    "import time\n",
    "import datetime\n",
    "import lxml.html as lh"
   ]
  },
  {
   "cell_type": "markdown",
   "metadata": {},
   "source": [
    "# Scrape Links"
   ]
  },
  {
   "cell_type": "code",
   "execution_count": 20,
   "metadata": {},
   "outputs": [],
   "source": [
    "#chromedriver_path = \"/Users/yuchen.zhang/Downloads/Installations/Chromedriver\"\n",
    "#driver = webdriver.Chrome(executable_path = chromedriver_path)"
   ]
  },
  {
   "cell_type": "code",
   "execution_count": 21,
   "metadata": {},
   "outputs": [],
   "source": [
    "case_links = []\n",
    "i = 1\n",
    "first_page_html = requests.get(\"http://securities.stanford.edu/filings.html?page=1\").text\n",
    "next_page_html = requests.get(\"http://securities.stanford.edu/filings.html?page=\" + str(i+1)).text\n",
    "\n",
    "while first_page_html != next_page_html:\n",
    "    try:\n",
    "        driver.get(\"http://securities.stanford.edu/filings.html?page=\" + str(i))\n",
    "        sel_case = Selector(text=driver.page_source)\n",
    "        case_links_raw = sel_case.css('tr:nth-child(n)::attr(onclick)').getall()\n",
    "        case_links.append(case_links_raw)\n",
    "        \n",
    "        i += 1\n",
    "        next_page_html = requests.get(\"http://securities.stanford.edu/filings.html?page=\" + str(i)).text\n",
    "    except: break\n",
    "\n",
    "total_pages = i"
   ]
  },
  {
   "cell_type": "code",
   "execution_count": 22,
   "metadata": {},
   "outputs": [],
   "source": [
    "# Change the links to actual links\n",
    "case_links_clean = []\n",
    "for i in range(0, len(case_links)):\n",
    "    for j in range(0, len(case_links[i])):\n",
    "        case_links_clean.append(\"http://securities.stanford.edu/\" + case_links[i][j].replace(\"window.location=\",\"\").replace(\"'\",\"\"))"
   ]
  },
  {
   "cell_type": "code",
   "execution_count": 56,
   "metadata": {},
   "outputs": [],
   "source": [
    "#pd.DataFrame(case_links_clean).to_excel(\"case_links_all.xlsx\")"
   ]
  },
  {
   "cell_type": "markdown",
   "metadata": {},
   "source": [
    "# Scrape a whole table"
   ]
  },
  {
   "cell_type": "code",
   "execution_count": 394,
   "metadata": {},
   "outputs": [],
   "source": [
    "page = requests.get(\"http://securities.stanford.edu/filings.html?page=1\")\n",
    "soup = BeautifulSoup(page.content, 'lxml')"
   ]
  },
  {
   "cell_type": "code",
   "execution_count": 395,
   "metadata": {},
   "outputs": [
    {
     "name": "stdout",
     "output_type": "stream",
     "text": [
      "Securities Class Action Clearinghouse: Filings Database\n"
     ]
    }
   ],
   "source": [
    "print(soup.title.text)"
   ]
  },
  {
   "cell_type": "code",
   "execution_count": 396,
   "metadata": {},
   "outputs": [
    {
     "name": "stdout",
     "output_type": "stream",
     "text": [
      "['Filing Name', 'Filing Date', 'District Court', 'Exchange', 'Ticker']\n"
     ]
    }
   ],
   "source": [
    "# Get headers of the table\n",
    "case_table = soup.find(\"table\", attrs={\"class\": \"table table-bordered table-striped table-hover\"})\n",
    "table_header = soup.find('thead')\n",
    "header = table_header.find_all('th')\n",
    "header = [x.text.strip() for x in header]\n",
    "print(header)"
   ]
  },
  {
   "cell_type": "code",
   "execution_count": 397,
   "metadata": {},
   "outputs": [],
   "source": [
    "# Get table of the body, saving element row by row\n",
    "table_body = soup.find('tbody')\n",
    "rows = table_body.find_all('tr')\n",
    "table_list = []\n",
    "for row in rows:\n",
    "    cols=row.find_all('td')\n",
    "    cols=[x.text.strip() for x in cols]\n",
    "    table_list.append(cols)"
   ]
  },
  {
   "cell_type": "code",
   "execution_count": 398,
   "metadata": {},
   "outputs": [],
   "source": [
    "# Save the complete table\n",
    "summary_table = pd.DataFrame(table_list)\n",
    "summary_table.columns = header"
   ]
  },
  {
   "cell_type": "code",
   "execution_count": 198,
   "metadata": {},
   "outputs": [],
   "source": [
    "# Make a function \n",
    "def get_summary_table(url):\n",
    "    # Get page\n",
    "    page = requests.get(url)\n",
    "    soup = BeautifulSoup(page.content, 'html.parser')\n",
    "    \n",
    "    # Get headers of the table\n",
    "    case_table = soup.find(\"table\", attrs={\"class\": \"table table-bordered table-striped table-hover\"})\n",
    "    table_header = soup.find('thead')\n",
    "    header = table_header.find_all('th')\n",
    "    header = [x.text.strip() for x in header]\n",
    "    \n",
    "    # Get table of the body, saving element row by row\n",
    "    table_body = soup.find('tbody')\n",
    "    rows = table_body.find_all('tr')\n",
    "    table_list = []\n",
    "    for row in rows:\n",
    "        cols=row.find_all('td')\n",
    "        cols=[x.text.strip() for x in cols]\n",
    "        table_list.append(cols)\n",
    "        \n",
    "    # Save the complete table\n",
    "    summary_table = pd.DataFrame(table_list)\n",
    "    summary_table.columns = header\n",
    "    \n",
    "    return summary_table"
   ]
  },
  {
   "cell_type": "code",
   "execution_count": 238,
   "metadata": {},
   "outputs": [],
   "source": [
    "table_all = pd.DataFrame()\n",
    "for i in range(1, total_pages):\n",
    "    table_all = table_all.append(get_summary_table(\"http://securities.stanford.edu/filings.html?page=\" + str(i)))"
   ]
  },
  {
   "cell_type": "code",
   "execution_count": 240,
   "metadata": {},
   "outputs": [],
   "source": [
    "#pd.DataFrame(table_all).to_excel(\"summary_table_all.xlsx\")"
   ]
  },
  {
   "cell_type": "markdown",
   "metadata": {},
   "source": [
    "# Scrape each page"
   ]
  },
  {
   "cell_type": "code",
   "execution_count": 5,
   "metadata": {},
   "outputs": [],
   "source": [
    "df_case_links_clean = pd.read_excel(\"../../../data/case_links_all.xlsx\")\n",
    "case_links_clean = df_case_links_clean[0].tolist()"
   ]
  },
  {
   "cell_type": "code",
   "execution_count": 135,
   "metadata": {},
   "outputs": [],
   "source": [
    "#temp = case_links_clean[0]\n",
    "temp = \"http://securities.stanford.edu/filings-case.html?id=101046\"\n",
    "case_page = requests.get(temp)\n",
    "case_soup = BeautifulSoup(case_page.text, 'lxml')"
   ]
  },
  {
   "cell_type": "code",
   "execution_count": 136,
   "metadata": {},
   "outputs": [],
   "source": [
    "# Save the final results in a dictionary\n",
    "del c\n",
    "c = case_Items()"
   ]
  },
  {
   "cell_type": "code",
   "execution_count": 137,
   "metadata": {},
   "outputs": [
    {
     "data": {
      "text/plain": [
       "'Computron Software, Inc. Securities Litigation'"
      ]
     },
     "execution_count": 137,
     "metadata": {},
     "output_type": "execute_result"
    }
   ],
   "source": [
    "# Basic Summary\n",
    "case_url = temp\n",
    "\n",
    "summary_section = case_soup.find(id = \"summary\")\n",
    "case_name = summary_section.find(\"div\", attrs = {\"class\" : \"page-header hidden-phone\"}).text.strip().replace('Case Summary\\n','')\n",
    "\n",
    "c[\"case_name\"] = case_name\n",
    "c[\"url\"] = case_url\n",
    "case_name"
   ]
  },
  {
   "cell_type": "code",
   "execution_count": 138,
   "metadata": {},
   "outputs": [
    {
     "data": {
      "text/plain": [
       "('http://securities.stanford.edu/filings-case.html?id=101046',\n",
       " 'Computron Software, Inc. Securities Litigation')"
      ]
     },
     "execution_count": 138,
     "metadata": {},
     "output_type": "execute_result"
    }
   ],
   "source": [
    "c[\"url\"], c[\"case_name\"]"
   ]
  },
  {
   "cell_type": "code",
   "execution_count": 139,
   "metadata": {},
   "outputs": [],
   "source": [
    "# Case Summary\n",
    "case_section = case_soup.find(id = \"summary\")\n",
    "case_para = [x.text.strip() for x in case_section.find_all(\"div\", attrs = {\"class\":\"span12\"})]\n",
    "c[\"case_brief\"] = ''.join(case_para)\n",
    "\n",
    "case_status = case_section.find(\"p\").getText().replace(\"\\n\",\"\").replace(\"\\xa0\",\"\").replace(\"\\t\",\"\")\n",
    "case_status_list = [[\"Case Breif\"] + case_para]\n",
    "for i, x in enumerate(case_status.split(\"  \")):\n",
    "    x = x.strip()\n",
    "    if x == \"Case Status:\":\n",
    "        c[\"case_status\"] = case_status.split(\"  \")[1]\n",
    "    else:\n",
    "        if x[:12] == \"On or around\":\n",
    "            c[\"date_of_last_review\"] = x[13:(13+10)]"
   ]
  },
  {
   "cell_type": "code",
   "execution_count": 140,
   "metadata": {},
   "outputs": [
    {
     "data": {
      "text/plain": [
       "('SETTLED',\n",
       " '03/11/1998',\n",
       " 'According to the Company’s 10-K For The Fiscal Year Ended December 31, 1997, on March 6, 1998 the District Court issued a final order approving a settlement in the class action securities litigation, IN RE COMPUTRON SOFTWARE, INC. SECURITIES LITIGATION, Master File No. 96-1911 (AJL), brought against the Company and certain of its present and former officers and directors in the United States District Court for the District of New Jersey.In a press release dated October 28, 1997, Computron Software, Inc., announced today, that subject to final documentation and approval of the court, a settlement has been reached with lead counsel representing the certified class in the class action securities litigation pending against the company and certain of its present and former officers and directors in the United States District Court of New Jersey.  As its share of the settlement, the company will pay $1 million in cash, and an additional $5 million, which may be paid in the form of newly issued Computron common stock or, at the option of the company, in cash. The overall settlement includes consideration totaling $15 million for the benefit of class members, including the payment from the company, and payments from certain of its present and former officers and directors, its former auditors, and the insurance companies that provided Computron with directors and officers liability insurance.  In return for the payments by the insurance companies, the settlement also resolves a separate lawsuit brought by the company against the insurance companies. The consolidated amended class action complaint alleged the Computron Software had falsely portrayed the financial condition of Computron. The Complaint alleged these false portrayals were made in order to complete the IPO and allow certain of the Individual Defendants to profit by selling millions of dollars of Computron stock.')"
      ]
     },
     "execution_count": 140,
     "metadata": {},
     "output_type": "execute_result"
    }
   ],
   "source": [
    "c[\"case_status\"],c[\"date_of_last_review\"], c[\"case_brief\"]"
   ]
  },
  {
   "cell_type": "code",
   "execution_count": 141,
   "metadata": {},
   "outputs": [],
   "source": [
    "# Plaintiff\n",
    "plaintiff_section = case_soup.find_all(\"ol\", class_=\"styled\")\n",
    "plaintiff = [x.text.strip() for x in plaintiff_section]\n",
    "plaintiff_list = plaintiff[0].split('\\n\\n\\n')\n",
    "\n",
    "pstr = \"\"\n",
    "for x in plaintiff_list:\n",
    "    if pstr == \"\":\n",
    "        pstr += x\n",
    "    else:\n",
    "        pstr += \";\" + x\n",
    "pstr\n",
    "\n",
    "c[\"plaintiffs\"] = pstr"
   ]
  },
  {
   "cell_type": "code",
   "execution_count": 143,
   "metadata": {},
   "outputs": [
    {
     "data": {
      "text/plain": [
       "'Bernstein Litowitz Berger & Grossmann LLP (Westfield, NJ);Goodkind Labaton Rudoff & Sucharow LLP'"
      ]
     },
     "execution_count": 143,
     "metadata": {},
     "output_type": "execute_result"
    }
   ],
   "source": [
    "c[\"plaintiffs\"]"
   ]
  },
  {
   "cell_type": "code",
   "execution_count": 142,
   "metadata": {},
   "outputs": [],
   "source": [
    "# Company\n",
    "company_section = case_soup.find(id = \"company\")\n",
    "company = [x.text.strip() for x in company_section.find_all(\"div\", attrs = {\"class\":\"span4\"})]\n",
    "\n",
    "for x in company:\n",
    "    if len(x.split(\": \"))==2:\n",
    "        key,value = x.split(\": \")\n",
    "    else:\n",
    "        key,value = (x + \" \").split(\": \")\n",
    "    key = '_'.join(key.split(\" \")).lower()\n",
    "    c[key] = value"
   ]
  },
  {
   "cell_type": "code",
   "execution_count": 144,
   "metadata": {},
   "outputs": [
    {
     "data": {
      "text/plain": [
       "{'case_brief': 'According to the Company’s 10-K For The Fiscal Year Ended '\n",
       "               'December 31, 1997, on March 6, 1998 the District Court issued '\n",
       "               'a final order approving a settlement in the class action '\n",
       "               'securities litigation, IN RE COMPUTRON SOFTWARE, INC. '\n",
       "               'SECURITIES LITIGATION, Master File No. 96-1911 (AJL), brought '\n",
       "               'against the Company and certain of its present and former '\n",
       "               'officers and directors in the United States District Court for '\n",
       "               'the District of New Jersey.In a press release dated October '\n",
       "               '28, 1997, Computron Software, Inc., announced today, that '\n",
       "               'subject to final documentation and approval of the court, a '\n",
       "               'settlement has been reached with lead counsel representing the '\n",
       "               'certified class in the class action securities litigation '\n",
       "               'pending against the company and certain of its present and '\n",
       "               'former officers and directors in the United States District '\n",
       "               'Court of New Jersey.  As its share of the settlement, the '\n",
       "               'company will pay $1 million in cash, and an additional $5 '\n",
       "               'million, which may be paid in the form of newly issued '\n",
       "               'Computron common stock or, at the option of the company, in '\n",
       "               'cash. The overall settlement includes consideration totaling '\n",
       "               '$15 million for the benefit of class members, including the '\n",
       "               'payment from the company, and payments from certain of its '\n",
       "               'present and former officers and directors, its former '\n",
       "               'auditors, and the insurance companies that provided Computron '\n",
       "               'with directors and officers liability insurance.  In return '\n",
       "               'for the payments by the insurance companies, the settlement '\n",
       "               'also resolves a separate lawsuit brought by the company '\n",
       "               'against the insurance companies. The consolidated amended '\n",
       "               'class action complaint alleged the Computron Software had '\n",
       "               'falsely portrayed the financial condition of Computron. The '\n",
       "               'Complaint alleged these false portrayals were made in order to '\n",
       "               'complete the IPO and allow certain of the Individual '\n",
       "               'Defendants to profit by selling millions of dollars of '\n",
       "               'Computron stock.',\n",
       " 'case_name': 'Computron Software, Inc. Securities Litigation',\n",
       " 'case_status': 'SETTLED',\n",
       " 'company_market': 'NASDAQ',\n",
       " 'date_of_last_review': '03/11/1998',\n",
       " 'headquarters': 'United States',\n",
       " 'industry': 'Software & Programming',\n",
       " 'market_status': 'Public (Listed)',\n",
       " 'plaintiffs': 'Bernstein Litowitz Berger & Grossmann LLP (Westfield, '\n",
       "               'NJ);Goodkind Labaton Rudoff & Sucharow LLP',\n",
       " 'sector': 'Technology',\n",
       " 'ticker_symbol': 'CFW',\n",
       " 'url': 'http://securities.stanford.edu/filings-case.html?id=101046'}"
      ]
     },
     "execution_count": 144,
     "metadata": {},
     "output_type": "execute_result"
    }
   ],
   "source": [
    "c"
   ]
  },
  {
   "cell_type": "code",
   "execution_count": 145,
   "metadata": {},
   "outputs": [],
   "source": [
    "# fic (first identified complaint)\n",
    "fic_section = case_soup.find(id = \"fic\")\n",
    "fic = [x.text.strip() for x in fic_section.find_all(\"div\", attrs = {\"class\":\"span4\"})]\n",
    "\n",
    "for x in fic:\n",
    "    if len(x.split(\": \"))==2:\n",
    "        key,value = x.split(\": \")\n",
    "    else:\n",
    "        key,value = (x + \" \").split(\": \")\n",
    "    key = re.sub('[^a-zA-Z0-9\\n\\.]', ' ',key).strip()\n",
    "    key = '_'.join(key.split(\" \")).lower()\n",
    "    c[key] = value "
   ]
  },
  {
   "cell_type": "code",
   "execution_count": 146,
   "metadata": {},
   "outputs": [
    {
     "data": {
      "text/plain": [
       "{'case_brief': 'According to the Company’s 10-K For The Fiscal Year Ended '\n",
       "               'December 31, 1997, on March 6, 1998 the District Court issued '\n",
       "               'a final order approving a settlement in the class action '\n",
       "               'securities litigation, IN RE COMPUTRON SOFTWARE, INC. '\n",
       "               'SECURITIES LITIGATION, Master File No. 96-1911 (AJL), brought '\n",
       "               'against the Company and certain of its present and former '\n",
       "               'officers and directors in the United States District Court for '\n",
       "               'the District of New Jersey.In a press release dated October '\n",
       "               '28, 1997, Computron Software, Inc., announced today, that '\n",
       "               'subject to final documentation and approval of the court, a '\n",
       "               'settlement has been reached with lead counsel representing the '\n",
       "               'certified class in the class action securities litigation '\n",
       "               'pending against the company and certain of its present and '\n",
       "               'former officers and directors in the United States District '\n",
       "               'Court of New Jersey.  As its share of the settlement, the '\n",
       "               'company will pay $1 million in cash, and an additional $5 '\n",
       "               'million, which may be paid in the form of newly issued '\n",
       "               'Computron common stock or, at the option of the company, in '\n",
       "               'cash. The overall settlement includes consideration totaling '\n",
       "               '$15 million for the benefit of class members, including the '\n",
       "               'payment from the company, and payments from certain of its '\n",
       "               'present and former officers and directors, its former '\n",
       "               'auditors, and the insurance companies that provided Computron '\n",
       "               'with directors and officers liability insurance.  In return '\n",
       "               'for the payments by the insurance companies, the settlement '\n",
       "               'also resolves a separate lawsuit brought by the company '\n",
       "               'against the insurance companies. The consolidated amended '\n",
       "               'class action complaint alleged the Computron Software had '\n",
       "               'falsely portrayed the financial condition of Computron. The '\n",
       "               'Complaint alleged these false portrayals were made in order to '\n",
       "               'complete the IPO and allow certain of the Individual '\n",
       "               'Defendants to profit by selling millions of dollars of '\n",
       "               'Computron stock.',\n",
       " 'case_name': 'Computron Software, Inc. Securities Litigation',\n",
       " 'case_status': 'SETTLED',\n",
       " 'class_period_end': '02/20/1996',\n",
       " 'class_period_start': '08/24/1995',\n",
       " 'company_market': 'NASDAQ',\n",
       " 'court': 'D. New Jersey',\n",
       " 'date_filed': '04/25/1996',\n",
       " 'date_of_last_review': '03/11/1998',\n",
       " 'docket': '96-CV-1911',\n",
       " 'headquarters': 'United States',\n",
       " 'industry': 'Software & Programming',\n",
       " 'judge': 'Hon. Alfred J. Lechner, Jr.',\n",
       " 'market_status': 'Public (Listed)',\n",
       " 'plaintiffs': 'Bernstein Litowitz Berger & Grossmann LLP (Westfield, '\n",
       "               'NJ);Goodkind Labaton Rudoff & Sucharow LLP',\n",
       " 'sector': 'Technology',\n",
       " 'ticker_symbol': 'CFW',\n",
       " 'url': 'http://securities.stanford.edu/filings-case.html?id=101046'}"
      ]
     },
     "execution_count": 146,
     "metadata": {},
     "output_type": "execute_result"
    }
   ],
   "source": [
    "c"
   ]
  },
  {
   "cell_type": "code",
   "execution_count": 147,
   "metadata": {},
   "outputs": [],
   "source": [
    "# fic documents\n",
    "fic_documents = case_soup.find(\"table\", {\"class\", \"table table-bordered table-striped table-hover\"})\n",
    "\n",
    "# get titles\n",
    "fic_table_header = fic_documents.find('thead')\n",
    "fic_header = fic_documents.find_all('th')\n",
    "fic_header = [x.text.strip() for x in fic_header]\n",
    "\n",
    "# get body\n",
    "fic_table_body = case_soup.find('tbody')\n",
    "fic_rows = fic_table_body.find_all('tr')\n",
    "fic_table_list = []\n",
    "for row in fic_rows:\n",
    "    fic_cols=row.find_all('td')\n",
    "    fic_cols=[x.text.strip() for x in fic_cols]\n",
    "    fic_table_list.append(fic_cols)\n",
    "    \n",
    "# make a table\n",
    "fic_summary_table = pd.DataFrame(fic_table_list)\n",
    "try: \n",
    "    fic_summary_table.columns = fic_header\n",
    "except:pass"
   ]
  },
  {
   "cell_type": "code",
   "execution_count": 148,
   "metadata": {},
   "outputs": [],
   "source": [
    "# fic documents pdf\n",
    "fic_links = fic_documents.find_all(\"tr\", {\"onclick\" : re.compile(\"^window.location\")})\n",
    "\n",
    "fic_links_list = []\n",
    "for x in fic_links:\n",
    "    x = \"http://securities.stanford.edu/\" + x.get(\"onclick\").replace(\"window.location=\",\"\").replace(\"'\",\"\")\n",
    "    fic_links_list.append(x)\n",
    "\n",
    "try:\n",
    "    fic_summary_table['link'] = pd.DataFrame(fic_links_list)\n",
    "except:pass\n",
    "\n",
    "c[\"fic_links_list\"] = fic_links_list\n",
    "c[\"fic_summary_table\"] = fic_summary_table.to_json()\n"
   ]
  },
  {
   "cell_type": "code",
   "execution_count": 149,
   "metadata": {},
   "outputs": [
    {
     "data": {
      "text/plain": [
       "[]"
      ]
     },
     "execution_count": 149,
     "metadata": {},
     "output_type": "execute_result"
    }
   ],
   "source": [
    "c[\"fic_links_list\"]"
   ]
  },
  {
   "cell_type": "code",
   "execution_count": 150,
   "metadata": {},
   "outputs": [
    {
     "data": {
      "text/plain": [
       "'{}'"
      ]
     },
     "execution_count": 150,
     "metadata": {},
     "output_type": "execute_result"
    }
   ],
   "source": [
    "c[\"fic_summary_table\"]"
   ]
  },
  {
   "cell_type": "code",
   "execution_count": 134,
   "metadata": {},
   "outputs": [
    {
     "data": {
      "text/plain": [
       "{'case_brief': \"According to the Company's  FORM 10-Q for the quarterly period \"\n",
       "               'ended September 30, 1999, on October 28, 1999, the federal '\n",
       "               'district court approved a settlement to the class action '\n",
       "               'lawsuits against ValuJet Airlines. Although the Company denied '\n",
       "               'that it violated any of its obligations under the federal '\n",
       "               'securities laws, it agreed to pay $2.5 million in cash and '\n",
       "               '$2.5 million in common stock in the settlement.  In 1996, '\n",
       "               'several stockholder class action suits were filed against the '\n",
       "               \"Company andcertain of its executive officers ('Defendants').  \"\n",
       "               'The consolidated lawsuitssought class certification for all '\n",
       "               'purchasers of stock in the Company during periods beginning on '\n",
       "               'or after June 1995 and ending on or before June 18, 1996, and '\n",
       "               'are based on allegedly misleading public statements made by '\n",
       "               'the Company or omission to disclose material facts in '\n",
       "               'violation of federal securities laws.  A total of 14 '\n",
       "               'stockholder lawsuits were filed against and served upon the '\n",
       "               'Company between May 30, 1996 and July 26, 1996.',\n",
       " 'case_name': 'ValuJet Airlines, Inc. Securities Litigation',\n",
       " 'case_status': 'SETTLED',\n",
       " 'class_period_end': '05/30/1996',\n",
       " 'class_period_start': '06/08/1995',\n",
       " 'company_market': 'NASDAQ',\n",
       " 'court': 'N.D. Georgia',\n",
       " 'date_filed': '05/30/1996',\n",
       " 'date_of_last_review': '11/01/1999',\n",
       " 'docket': '96-CV-1355',\n",
       " 'fic_links_list': [],\n",
       " 'fic_summary_table': '{}',\n",
       " 'headquarters': 'United States',\n",
       " 'industry': 'Airline',\n",
       " 'judge': 'Hon. Jack T. Camp',\n",
       " 'market_status': 'Public (Listed)',\n",
       " 'plaintiffs': 'Berger & Montague PC;Bernstein Litowitz Berger & Grossmann LLP '\n",
       "               '(Westfield, NJ);Chitwood & Harley LLP (Atlanta);Milberg Weiss '\n",
       "               'Bershad Hynes & Lerach LLP (San Diego, CA)',\n",
       " 'sector': 'Transportation',\n",
       " 'ticker_symbol': 'VJET',\n",
       " 'url': 'http://securities.stanford.edu/filings-case.html?id=100746'}"
      ]
     },
     "execution_count": 134,
     "metadata": {},
     "output_type": "execute_result"
    }
   ],
   "source": [
    "c"
   ]
  },
  {
   "cell_type": "code",
   "execution_count": 151,
   "metadata": {},
   "outputs": [
    {
     "data": {
      "text/plain": [
       "dict_keys(['case_name', 'url', 'case_brief', 'case_status', 'date_of_last_review', 'plaintiffs', 'sector', 'industry', 'headquarters', 'ticker_symbol', 'company_market', 'market_status', 'court', 'docket', 'judge', 'date_filed', 'class_period_start', 'class_period_end', 'fic_links_list', 'fic_summary_table'])"
      ]
     },
     "execution_count": 151,
     "metadata": {},
     "output_type": "execute_result"
    }
   ],
   "source": [
    "c.keys()"
   ]
  },
  {
   "cell_type": "markdown",
   "metadata": {},
   "source": [
    "# Bulk download pdfs"
   ]
  },
  {
   "cell_type": "code",
   "execution_count": 264,
   "metadata": {},
   "outputs": [],
   "source": [
    "import os\n",
    "import requests\n",
    "from time import time\n",
    "from multiprocessing.pool import ThreadPool"
   ]
  },
  {
   "cell_type": "code",
   "execution_count": 307,
   "metadata": {},
   "outputs": [],
   "source": [
    "folder = \"/Users/yuchen.zhang/Documents/Projects/Class_Action/class_action_git/data/Case Filings\""
   ]
  },
  {
   "cell_type": "code",
   "execution_count": 308,
   "metadata": {},
   "outputs": [],
   "source": [
    "def url_response(url):\n",
    "    path, url = url\n",
    "    r = requests.get(url, stream = True)\n",
    "    \n",
    "    with open(folder + \"/\" + path,\"wb\") as pdf: \n",
    "        for chunk in r.iter_content(chunk_size=1024): \n",
    "\n",
    "             # writing one chunk at a time to pdf file \n",
    "             if chunk: \n",
    "                 pdf.write(chunk)"
   ]
  },
  {
   "cell_type": "code",
   "execution_count": 356,
   "metadata": {},
   "outputs": [
    {
     "data": {
      "text/plain": [
       "No                                                                1\n",
       "Document Title                               Class Action Complaint\n",
       "Filing Date                                              07/07/2020\n",
       "link              http://securities.stanford.edu/filings-documen...\n",
       "Name: 0, dtype: object"
      ]
     },
     "execution_count": 356,
     "metadata": {},
     "output_type": "execute_result"
    }
   ],
   "source": [
    "case_dict[\"fic_summary_table\"].iloc[0]"
   ]
  },
  {
   "cell_type": "code",
   "execution_count": 323,
   "metadata": {},
   "outputs": [
    {
     "name": "stdout",
     "output_type": "stream",
     "text": [
      "20-CV-81063_Class Action Complaint_07072020\n",
      "20-CV-81063_U.S. District Court Civil Docket_07072020\n"
     ]
    }
   ],
   "source": [
    "for i, j in case_dict[\"fic_summary_table\"].iterrows():\n",
    "    filename = case_dict[\"DOCKET #\"] + \"_\" + case_dict[\"fic_summary_table\"][\"Document Title\"][i] + \"_\" + case_dict[\"fic_summary_table\"][\"Filing Date\"][i].replace(\"/\",\"\")\n",
    "    print(filename)\n",
    "    url_response([filename,\n",
    "                  case_dict[\"fic_summary_table\"][\"link\"][i]])"
   ]
  }
 ],
 "metadata": {
  "kernelspec": {
   "display_name": "Python 3",
   "language": "python",
   "name": "python3"
  },
  "language_info": {
   "codemirror_mode": {
    "name": "ipython",
    "version": 3
   },
   "file_extension": ".py",
   "mimetype": "text/x-python",
   "name": "python",
   "nbconvert_exporter": "python",
   "pygments_lexer": "ipython3",
   "version": "3.7.6"
  }
 },
 "nbformat": 4,
 "nbformat_minor": 4
}
