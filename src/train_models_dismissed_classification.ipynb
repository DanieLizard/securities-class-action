{
 "cells": [
  {
   "cell_type": "code",
   "execution_count": 21,
   "metadata": {},
   "outputs": [],
   "source": [
    "import os\n",
    "import pandas as pd\n",
    "import numpy as np\n",
    "import seaborn as sns\n",
    "import datetime\n",
    "import sys\n",
    "sys.path.append(\"..\")\n",
    "from functions.functions_analysis import *"
   ]
  },
  {
   "cell_type": "markdown",
   "metadata": {},
   "source": [
    "# Import data"
   ]
  },
  {
   "cell_type": "code",
   "execution_count": 45,
   "metadata": {},
   "outputs": [
    {
     "data": {
      "text/plain": [
       "(5771, 5771)"
      ]
     },
     "execution_count": 45,
     "metadata": {},
     "output_type": "execute_result"
    }
   ],
   "source": [
    "sumtable = pd.read_excel(\"../../data/summary_table_all.xlsx\")\n",
    "sumtable.drop('Unnamed: 0', axis = 1,inplace = True)\n",
    "\n",
    "scraped_data = pd.read_csv(\"../../data/data_from_scrapy.csv\")\n",
    "\n",
    "#length\n",
    "len(sumtable),len(scraped_data)"
   ]
  },
  {
   "cell_type": "code",
   "execution_count": 42,
   "metadata": {},
   "outputs": [
    {
     "data": {
      "text/html": [
       "<div>\n",
       "<style scoped>\n",
       "    .dataframe tbody tr th:only-of-type {\n",
       "        vertical-align: middle;\n",
       "    }\n",
       "\n",
       "    .dataframe tbody tr th {\n",
       "        vertical-align: top;\n",
       "    }\n",
       "\n",
       "    .dataframe thead th {\n",
       "        text-align: right;\n",
       "    }\n",
       "</style>\n",
       "<table border=\"1\" class=\"dataframe\">\n",
       "  <thead>\n",
       "    <tr style=\"text-align: right;\">\n",
       "      <th></th>\n",
       "      <th>case_brief</th>\n",
       "      <th>case_name</th>\n",
       "      <th>case_status</th>\n",
       "      <th>class_period_end</th>\n",
       "      <th>class_period_start</th>\n",
       "      <th>company_market</th>\n",
       "      <th>court</th>\n",
       "      <th>date_filed</th>\n",
       "      <th>date_of_last_review</th>\n",
       "      <th>docket</th>\n",
       "      <th>...</th>\n",
       "      <th>fic_links_list</th>\n",
       "      <th>fic_summary_table</th>\n",
       "      <th>headquarters</th>\n",
       "      <th>industry</th>\n",
       "      <th>judge</th>\n",
       "      <th>market_status</th>\n",
       "      <th>plaintiffs</th>\n",
       "      <th>sector</th>\n",
       "      <th>ticker_symbol</th>\n",
       "      <th>url</th>\n",
       "    </tr>\n",
       "  </thead>\n",
       "  <tbody>\n",
       "    <tr>\n",
       "      <th>0</th>\n",
       "      <td>According to the Complaint, Wirecard is a tech...</td>\n",
       "      <td>Wirecard AG Securities Litigation</td>\n",
       "      <td>ONGOING</td>\n",
       "      <td>6/24/20</td>\n",
       "      <td>8/17/15</td>\n",
       "      <td>OTC-BB</td>\n",
       "      <td>E.D. Pennsylvania</td>\n",
       "      <td>7/7/20</td>\n",
       "      <td>7/8/20</td>\n",
       "      <td>20-CV-03326</td>\n",
       "      <td>...</td>\n",
       "      <td>http://securities.stanford.edu/filings-documen...</td>\n",
       "      <td>{\"No\":{\"0\":\"1\",\"1\":\"2\"},\"Document Title\":{\"0\":...</td>\n",
       "      <td>Germany</td>\n",
       "      <td>Software &amp; Programming</td>\n",
       "      <td>Hon. ANITA B. BRODY</td>\n",
       "      <td>Public (Listed)</td>\n",
       "      <td>The Rosen Law Firm, P.A. (Jenkintown)</td>\n",
       "      <td>Technology</td>\n",
       "      <td>WCAGY</td>\n",
       "      <td>http://securities.stanford.edu/filings-case.ht...</td>\n",
       "    </tr>\n",
       "    <tr>\n",
       "      <th>1</th>\n",
       "      <td>According to the Complaint, Finjan Holdings, I...</td>\n",
       "      <td>Finjan Holdings, Inc. Securities Litigation</td>\n",
       "      <td>ONGOING</td>\n",
       "      <td>6/29/20</td>\n",
       "      <td>6/10/20</td>\n",
       "      <td>NASDAQ</td>\n",
       "      <td>N.D. California</td>\n",
       "      <td>6/29/20</td>\n",
       "      <td>6/30/20</td>\n",
       "      <td>20-CV-04289</td>\n",
       "      <td>...</td>\n",
       "      <td>http://securities.stanford.edu/filings-documen...</td>\n",
       "      <td>{\"No\":{\"0\":\"1\",\"1\":\"2\"},\"Document Title\":{\"0\":...</td>\n",
       "      <td>United States</td>\n",
       "      <td>Software &amp; Programming</td>\n",
       "      <td>Hon. Edward M. Chen</td>\n",
       "      <td>Public (Listed)</td>\n",
       "      <td>Brodsky &amp; Smith, LLC  (California)</td>\n",
       "      <td>Technology</td>\n",
       "      <td>FNJN</td>\n",
       "      <td>http://securities.stanford.edu/filings-case.ht...</td>\n",
       "    </tr>\n",
       "    <tr>\n",
       "      <th>2</th>\n",
       "      <td>According to the Complaint, Chembio Diagnostic...</td>\n",
       "      <td>Chembio Diagnostics, Inc. Securities Litigation</td>\n",
       "      <td>ONGOING</td>\n",
       "      <td>7/1/20</td>\n",
       "      <td>6/16/20</td>\n",
       "      <td>NASDAQ</td>\n",
       "      <td>E.D. New York</td>\n",
       "      <td>7/1/20</td>\n",
       "      <td>7/3/20</td>\n",
       "      <td>20-CV-02918</td>\n",
       "      <td>...</td>\n",
       "      <td>http://securities.stanford.edu/filings-documen...</td>\n",
       "      <td>{\"No\":{\"0\":\"1\",\"1\":\"2\"},\"Document Title\":{\"0\":...</td>\n",
       "      <td>United States</td>\n",
       "      <td>Biotechnology &amp; Drugs</td>\n",
       "      <td>Hon. Sandra J. Feuerstein</td>\n",
       "      <td>Public (Listed)</td>\n",
       "      <td>Fields Kupka &amp; Shukurov LLP\\n\\t\\t\\t\\t\\t\\t\\t\\t\\...</td>\n",
       "      <td>Healthcare</td>\n",
       "      <td>CEMI</td>\n",
       "      <td>http://securities.stanford.edu/filings-case.ht...</td>\n",
       "    </tr>\n",
       "  </tbody>\n",
       "</table>\n",
       "<p>3 rows × 21 columns</p>\n",
       "</div>"
      ],
      "text/plain": [
       "                                          case_brief  \\\n",
       "0  According to the Complaint, Wirecard is a tech...   \n",
       "1  According to the Complaint, Finjan Holdings, I...   \n",
       "2  According to the Complaint, Chembio Diagnostic...   \n",
       "\n",
       "                                         case_name case_status  \\\n",
       "0                Wirecard AG Securities Litigation     ONGOING   \n",
       "1      Finjan Holdings, Inc. Securities Litigation     ONGOING   \n",
       "2  Chembio Diagnostics, Inc. Securities Litigation     ONGOING   \n",
       "\n",
       "  class_period_end class_period_start company_market              court  \\\n",
       "0          6/24/20            8/17/15         OTC-BB  E.D. Pennsylvania   \n",
       "1          6/29/20            6/10/20         NASDAQ    N.D. California   \n",
       "2           7/1/20            6/16/20         NASDAQ      E.D. New York   \n",
       "\n",
       "  date_filed date_of_last_review       docket  ...  \\\n",
       "0     7/7/20              7/8/20  20-CV-03326  ...   \n",
       "1    6/29/20             6/30/20  20-CV-04289  ...   \n",
       "2     7/1/20              7/3/20  20-CV-02918  ...   \n",
       "\n",
       "                                      fic_links_list  \\\n",
       "0  http://securities.stanford.edu/filings-documen...   \n",
       "1  http://securities.stanford.edu/filings-documen...   \n",
       "2  http://securities.stanford.edu/filings-documen...   \n",
       "\n",
       "                                   fic_summary_table   headquarters  \\\n",
       "0  {\"No\":{\"0\":\"1\",\"1\":\"2\"},\"Document Title\":{\"0\":...        Germany   \n",
       "1  {\"No\":{\"0\":\"1\",\"1\":\"2\"},\"Document Title\":{\"0\":...  United States   \n",
       "2  {\"No\":{\"0\":\"1\",\"1\":\"2\"},\"Document Title\":{\"0\":...  United States   \n",
       "\n",
       "                 industry                      judge    market_status  \\\n",
       "0  Software & Programming        Hon. ANITA B. BRODY  Public (Listed)   \n",
       "1  Software & Programming        Hon. Edward M. Chen  Public (Listed)   \n",
       "2   Biotechnology & Drugs  Hon. Sandra J. Feuerstein  Public (Listed)   \n",
       "\n",
       "                                          plaintiffs      sector  \\\n",
       "0              The Rosen Law Firm, P.A. (Jenkintown)  Technology   \n",
       "1                 Brodsky & Smith, LLC  (California)  Technology   \n",
       "2  Fields Kupka & Shukurov LLP\\n\\t\\t\\t\\t\\t\\t\\t\\t\\...  Healthcare   \n",
       "\n",
       "  ticker_symbol                                                url  \n",
       "0         WCAGY  http://securities.stanford.edu/filings-case.ht...  \n",
       "1          FNJN  http://securities.stanford.edu/filings-case.ht...  \n",
       "2          CEMI  http://securities.stanford.edu/filings-case.ht...  \n",
       "\n",
       "[3 rows x 21 columns]"
      ]
     },
     "execution_count": 42,
     "metadata": {},
     "output_type": "execute_result"
    }
   ],
   "source": [
    "scraped_data.head(3)"
   ]
  },
  {
   "cell_type": "markdown",
   "metadata": {},
   "source": [
    "# Data Prepossing"
   ]
  },
  {
   "cell_type": "code",
   "execution_count": 24,
   "metadata": {},
   "outputs": [],
   "source": [
    "import numpy as np\n",
    "from sklearn.model_selection import train_test_split\n",
    "from sklearn.preprocessing import OneHotEncoder\n",
    "from sklearn.preprocessing import LabelEncoder\n",
    "from sklearn.preprocessing import normalize"
   ]
  },
  {
   "cell_type": "code",
   "execution_count": 55,
   "metadata": {},
   "outputs": [],
   "source": [
    "sumtable[\"case_id\"] = sumtable.index\n",
    "scraped_data[\"case_id\"] = data_input.index"
   ]
  },
  {
   "cell_type": "code",
   "execution_count": 57,
   "metadata": {},
   "outputs": [
    {
     "data": {
      "text/html": [
       "<div>\n",
       "<style scoped>\n",
       "    .dataframe tbody tr th:only-of-type {\n",
       "        vertical-align: middle;\n",
       "    }\n",
       "\n",
       "    .dataframe tbody tr th {\n",
       "        vertical-align: top;\n",
       "    }\n",
       "\n",
       "    .dataframe thead th {\n",
       "        text-align: right;\n",
       "    }\n",
       "</style>\n",
       "<table border=\"1\" class=\"dataframe\">\n",
       "  <thead>\n",
       "    <tr style=\"text-align: right;\">\n",
       "      <th></th>\n",
       "      <th>case_brief</th>\n",
       "      <th>case_name</th>\n",
       "      <th>case_status</th>\n",
       "      <th>class_period_end</th>\n",
       "      <th>class_period_start</th>\n",
       "      <th>company_market</th>\n",
       "      <th>court</th>\n",
       "      <th>date_filed</th>\n",
       "      <th>date_of_last_review</th>\n",
       "      <th>docket</th>\n",
       "      <th>...</th>\n",
       "      <th>fic_summary_table</th>\n",
       "      <th>headquarters</th>\n",
       "      <th>industry</th>\n",
       "      <th>judge</th>\n",
       "      <th>market_status</th>\n",
       "      <th>plaintiffs</th>\n",
       "      <th>sector</th>\n",
       "      <th>ticker_symbol</th>\n",
       "      <th>url</th>\n",
       "      <th>case_id</th>\n",
       "    </tr>\n",
       "  </thead>\n",
       "  <tbody>\n",
       "    <tr>\n",
       "      <th>0</th>\n",
       "      <td>According to the Complaint, Wirecard is a tech...</td>\n",
       "      <td>Wirecard AG Securities Litigation</td>\n",
       "      <td>ONGOING</td>\n",
       "      <td>6/24/20</td>\n",
       "      <td>8/17/15</td>\n",
       "      <td>OTC-BB</td>\n",
       "      <td>E.D. Pennsylvania</td>\n",
       "      <td>7/7/20</td>\n",
       "      <td>7/8/20</td>\n",
       "      <td>20-CV-03326</td>\n",
       "      <td>...</td>\n",
       "      <td>{\"No\":{\"0\":\"1\",\"1\":\"2\"},\"Document Title\":{\"0\":...</td>\n",
       "      <td>Germany</td>\n",
       "      <td>Software &amp; Programming</td>\n",
       "      <td>Hon. ANITA B. BRODY</td>\n",
       "      <td>Public (Listed)</td>\n",
       "      <td>The Rosen Law Firm, P.A. (Jenkintown)</td>\n",
       "      <td>Technology</td>\n",
       "      <td>WCAGY</td>\n",
       "      <td>http://securities.stanford.edu/filings-case.ht...</td>\n",
       "      <td>0</td>\n",
       "    </tr>\n",
       "    <tr>\n",
       "      <th>1</th>\n",
       "      <td>According to the Complaint, Finjan Holdings, I...</td>\n",
       "      <td>Finjan Holdings, Inc. Securities Litigation</td>\n",
       "      <td>ONGOING</td>\n",
       "      <td>6/29/20</td>\n",
       "      <td>6/10/20</td>\n",
       "      <td>NASDAQ</td>\n",
       "      <td>N.D. California</td>\n",
       "      <td>6/29/20</td>\n",
       "      <td>6/30/20</td>\n",
       "      <td>20-CV-04289</td>\n",
       "      <td>...</td>\n",
       "      <td>{\"No\":{\"0\":\"1\",\"1\":\"2\"},\"Document Title\":{\"0\":...</td>\n",
       "      <td>United States</td>\n",
       "      <td>Software &amp; Programming</td>\n",
       "      <td>Hon. Edward M. Chen</td>\n",
       "      <td>Public (Listed)</td>\n",
       "      <td>Brodsky &amp; Smith, LLC  (California)</td>\n",
       "      <td>Technology</td>\n",
       "      <td>FNJN</td>\n",
       "      <td>http://securities.stanford.edu/filings-case.ht...</td>\n",
       "      <td>1</td>\n",
       "    </tr>\n",
       "  </tbody>\n",
       "</table>\n",
       "<p>2 rows × 22 columns</p>\n",
       "</div>"
      ],
      "text/plain": [
       "                                          case_brief  \\\n",
       "0  According to the Complaint, Wirecard is a tech...   \n",
       "1  According to the Complaint, Finjan Holdings, I...   \n",
       "\n",
       "                                     case_name case_status class_period_end  \\\n",
       "0            Wirecard AG Securities Litigation     ONGOING          6/24/20   \n",
       "1  Finjan Holdings, Inc. Securities Litigation     ONGOING          6/29/20   \n",
       "\n",
       "  class_period_start company_market              court date_filed  \\\n",
       "0            8/17/15         OTC-BB  E.D. Pennsylvania     7/7/20   \n",
       "1            6/10/20         NASDAQ    N.D. California    6/29/20   \n",
       "\n",
       "  date_of_last_review       docket  ...  \\\n",
       "0              7/8/20  20-CV-03326  ...   \n",
       "1             6/30/20  20-CV-04289  ...   \n",
       "\n",
       "                                   fic_summary_table   headquarters  \\\n",
       "0  {\"No\":{\"0\":\"1\",\"1\":\"2\"},\"Document Title\":{\"0\":...        Germany   \n",
       "1  {\"No\":{\"0\":\"1\",\"1\":\"2\"},\"Document Title\":{\"0\":...  United States   \n",
       "\n",
       "                 industry                judge    market_status  \\\n",
       "0  Software & Programming  Hon. ANITA B. BRODY  Public (Listed)   \n",
       "1  Software & Programming  Hon. Edward M. Chen  Public (Listed)   \n",
       "\n",
       "                              plaintiffs      sector ticker_symbol  \\\n",
       "0  The Rosen Law Firm, P.A. (Jenkintown)  Technology         WCAGY   \n",
       "1     Brodsky & Smith, LLC  (California)  Technology          FNJN   \n",
       "\n",
       "                                                 url case_id  \n",
       "0  http://securities.stanford.edu/filings-case.ht...       0  \n",
       "1  http://securities.stanford.edu/filings-case.ht...       1  \n",
       "\n",
       "[2 rows x 22 columns]"
      ]
     },
     "execution_count": 57,
     "metadata": {},
     "output_type": "execute_result"
    }
   ],
   "source": [
    "scraped_data.head(2)"
   ]
  },
  {
   "cell_type": "code",
   "execution_count": 67,
   "metadata": {},
   "outputs": [
    {
     "data": {
      "text/plain": [
       "Index(['case_brief', 'case_name', 'case_status', 'class_period_end',\n",
       "       'class_period_start', 'company_market', 'court', 'date_filed',\n",
       "       'date_of_last_review', 'docket', 'fic_doc_links', 'fic_links_list',\n",
       "       'fic_summary_table', 'headquarters', 'industry', 'judge',\n",
       "       'market_status', 'plaintiffs', 'sector', 'ticker_symbol', 'url',\n",
       "       'case_id'],\n",
       "      dtype='object')"
      ]
     },
     "execution_count": 67,
     "metadata": {},
     "output_type": "execute_result"
    }
   ],
   "source": [
    "scraped_data.columns"
   ]
  },
  {
   "cell_type": "markdown",
   "metadata": {},
   "source": [
    "## Subsetting to data with no NA values"
   ]
  },
  {
   "cell_type": "code",
   "execution_count": 125,
   "metadata": {},
   "outputs": [],
   "source": [
    "#subset the data to features needed\n",
    "noNA = [\"case_brief\",\n",
    "        \"case_id\",\n",
    "        \"case_status\",\n",
    "        \"class_period_end\",\n",
    "        \"class_period_start\",\n",
    "        \"company_market\",\n",
    "        \"court\",\n",
    "        \"date_filed\",\n",
    "        \"headquarters\",\n",
    "        \"industry\",\n",
    "        \"judge\",\n",
    "        \"market_status\",\n",
    "        \"sector\"]\n",
    "\n",
    "def subsetting(data):\n",
    "    data = data.dropna(subset=noNA)\n",
    "    data = data[data[\"case_status\"]!=\"ONGOING\"]\n",
    "    return data\n",
    "\n",
    "data = subsetting(scraped_data)"
   ]
  },
  {
   "cell_type": "markdown",
   "metadata": {},
   "source": [
    "## Exchange, duration, time"
   ]
  },
  {
   "cell_type": "code",
   "execution_count": 126,
   "metadata": {},
   "outputs": [],
   "source": [
    "#add Concrete Exchange Information (company_market only listed primary)\n",
    "def findExchange(ticker):\n",
    "    return sumtable[\"Exchange\"][sumtable[\"Ticker\"]==ticker].unique()\n",
    "\n",
    "def preprocessExchange(data):\n",
    "    data[\"exchange\"]=data[\"ticker_symbol\"].apply(lambda x: findExchange(x))\n",
    "    return data"
   ]
  },
  {
   "cell_type": "code",
   "execution_count": 127,
   "metadata": {},
   "outputs": [],
   "source": [
    "#calculate duration\n",
    "from datetime import timezone \n",
    "import datetime\n",
    "\n",
    "def preprocessTime(data):\n",
    "    data[\"class_period_start\"] = pd.to_datetime(data[\"class_period_start\"])\n",
    "    data[\"class_period_end\"] = pd.to_datetime(data[\"class_period_end\"])\n",
    "    data[\"date_filed\"] = pd.to_datetime(data[\"date_filed\"])\n",
    "    data[\"class_duration\"] = data[\"class_period_end\"] - data[\"class_period_start\"]\n",
    "    \n",
    "    data[\"class_period_end_num\"] = data[\"class_period_end\"].apply(lambda x:x.replace(tzinfo = timezone.utc).timestamp())\n",
    "    data[\"class_period_start_num\"] = data[\"class_period_start\"].apply(lambda x:x.replace(tzinfo = timezone.utc).timestamp())\n",
    "    data[\"date_filed_num\"] = data[\"date_filed\"].apply(lambda x:x.replace(tzinfo = timezone.utc).timestamp())\n",
    "    data[\"class_duration_num\"] = data[\"class_period_end_num\"]-data[\"class_period_start_num\"]\n",
    "    return data"
   ]
  },
  {
   "cell_type": "code",
   "execution_count": 128,
   "metadata": {},
   "outputs": [],
   "source": [
    "#preprocess and remove ongoing cases and remove judge as a feature\n",
    "def preprocessAll(data):\n",
    "    data_input= preprocessExchange(data)\n",
    "    data_input= preprocessTime(data_input)\n",
    "    return data\n",
    "\n",
    "data_input = preprocessAll(data)"
   ]
  },
  {
   "cell_type": "code",
   "execution_count": 129,
   "metadata": {},
   "outputs": [
    {
     "data": {
      "text/plain": [
       "Index(['case_brief', 'case_name', 'case_status', 'class_period_end',\n",
       "       'class_period_start', 'company_market', 'court', 'date_filed',\n",
       "       'date_of_last_review', 'docket', 'fic_doc_links', 'fic_links_list',\n",
       "       'fic_summary_table', 'headquarters', 'industry', 'judge',\n",
       "       'market_status', 'plaintiffs', 'sector', 'ticker_symbol', 'url',\n",
       "       'case_id', 'exchange', 'class_duration', 'class_period_end_num',\n",
       "       'class_period_start_num', 'date_filed_num', 'class_duration_num'],\n",
       "      dtype='object')"
      ]
     },
     "execution_count": 129,
     "metadata": {},
     "output_type": "execute_result"
    }
   ],
   "source": [
    "data_input.columns"
   ]
  },
  {
   "cell_type": "markdown",
   "metadata": {},
   "source": [
    "## Construct X and Y"
   ]
  },
  {
   "cell_type": "code",
   "execution_count": 130,
   "metadata": {},
   "outputs": [],
   "source": [
    "##creating instance of one-hot-encoder\n",
    "enc = OneHotEncoder(handle_unknown='ignore')\n",
    "\n",
    "##identify columns\n",
    "category_columns = [\"company_market\",\"court\",\"headquarters\",\"industry\",\"market_status\"]#,\"sector\"]\n",
    "\n",
    "##fit encoder and transfrom\n",
    "enc.fit(data_input[category_columns].values)\n",
    "X_onehot = enc.transform(data_input[category_columns].values).toarray() #enc.get_feature_names(category_columns)"
   ]
  },
  {
   "cell_type": "code",
   "execution_count": 132,
   "metadata": {},
   "outputs": [],
   "source": [
    "##get other vars for X\n",
    "X_time = data_input[[\"class_period_end_num\",\n",
    "                    \"class_period_start_num\",\n",
    "                    \"date_filed_num\",\n",
    "                    \"class_duration_num\"]].values\n",
    "\n",
    "def time_norm(x_time):\n",
    "    normalized = np.zeros(shape=(X_time.shape[0],1))\n",
    "    for i in range(x_time.shape[1]):\n",
    "        f = np.take(x_time,[i],1)\n",
    "        f = (f- np.min(f))/np.std(f)\n",
    "        #print(normalized.shape,f.shape)\n",
    "        normalized = np.concatenate((normalized,f),1)\n",
    "    \n",
    "    normalized = np.delete(normalized,[0],1)\n",
    "    return normalized\n",
    "        \n",
    "X = np.concatenate((time_norm(X_time), X_onehot),1)\n",
    "\n",
    "##TODO: add constant ones?"
   ]
  },
  {
   "cell_type": "code",
   "execution_count": 173,
   "metadata": {},
   "outputs": [],
   "source": [
    "## construct y\n",
    "y_raw=data_input['case_status'].values\n",
    "y=np.zeros(y_raw.shape)\n",
    "y[rawy==\"DISMISSED\"]=1\n",
    "y=y.reshape(-1,1)"
   ]
  },
  {
   "cell_type": "code",
   "execution_count": 174,
   "metadata": {},
   "outputs": [
    {
     "data": {
      "text/plain": [
       "((5061, 266), (5061, 1))"
      ]
     },
     "execution_count": 174,
     "metadata": {},
     "output_type": "execute_result"
    }
   ],
   "source": [
    "X.shape,y.shape"
   ]
  },
  {
   "cell_type": "code",
   "execution_count": 176,
   "metadata": {},
   "outputs": [
    {
     "data": {
      "text/plain": [
       "(array([2567]), array([2494]))"
      ]
     },
     "execution_count": 176,
     "metadata": {},
     "output_type": "execute_result"
    }
   ],
   "source": [
    "sum(y==1), sum(y==0) #relatively balanced data"
   ]
  },
  {
   "cell_type": "markdown",
   "metadata": {},
   "source": [
    "## Train test split"
   ]
  },
  {
   "cell_type": "code",
   "execution_count": 177,
   "metadata": {},
   "outputs": [],
   "source": [
    "#create cross validation sets \n",
    "X_train, X_test, y_train, y_test = train_test_split(X, y, test_size=0.30, random_state=777)\n",
    "X_ttrain, X_tval, y_ttrain, y_tval = train_test_split(X_train, y_train, test_size=0.20, random_state=888)"
   ]
  },
  {
   "cell_type": "code",
   "execution_count": 178,
   "metadata": {},
   "outputs": [
    {
     "data": {
      "text/plain": [
       "(2833, 709, 1519)"
      ]
     },
     "execution_count": 178,
     "metadata": {},
     "output_type": "execute_result"
    }
   ],
   "source": [
    "len(X_ttrain),len(X_tval),len(X_test)"
   ]
  },
  {
   "cell_type": "markdown",
   "metadata": {},
   "source": [
    "# Model Functions"
   ]
  },
  {
   "cell_type": "code",
   "execution_count": 179,
   "metadata": {},
   "outputs": [],
   "source": [
    "from sklearn.model_selection import train_test_split\n",
    "from sklearn.metrics import f1_score\n",
    "from sklearn.model_selection import GridSearchCV\n",
    "from sklearn.model_selection import cross_val_score\n",
    "import matplotlib.pyplot as plt\n",
    "import json"
   ]
  },
  {
   "cell_type": "code",
   "execution_count": 180,
   "metadata": {},
   "outputs": [],
   "source": [
    "def modelEval(X_train, y_train, X_test, y_test, model, result_output_name, path = \"../model_results/\", printResults = True):\n",
    "    clf = model.fit(X_train, y_train)\n",
    "    \n",
    "    # predict\n",
    "    y_pred_train = clf.predict(X_train)\n",
    "    y_pred_test = clf.predict(X_test)\n",
    "#     print(y_pred_train.shape, y_train.shape)\n",
    "#     assert(y_pred_train.shape == y_train.shape)\n",
    "#     assert(y_pred_test.shape == y_test.shape)\n",
    "    \n",
    "    # save results in dictionary\n",
    "    model_dict = {}\n",
    "    model_dict['train accuracy'] = clf.score(X_train, y_train)\n",
    "    model_dict['test accuracy'] = clf.score(X_test, y_test)\n",
    "    model_dict['train f-score'] = f1_score(y_train, y_pred_train)\n",
    "    model_dict['test f-score'] = f1_score(y_test, y_pred_test)\n",
    "    \n",
    "    # output the dictionary\n",
    "    with open(path + result_output_name + \".json\", \"w\") as outfile:  \n",
    "        json.dump(model_dict, outfile) \n",
    "    \n",
    "    # print\n",
    "    if printResults == True:\n",
    "        print('train accuracy:', model_dict['train accuracy'])\n",
    "        print('test accuracy:', model_dict['test accuracy'])\n",
    "        print('train f-score:', model_dict['train f-score'])\n",
    "        print('test f-score:', model_dict['test f-score'])\n",
    "    \n",
    "    return clf, model_dict"
   ]
  },
  {
   "cell_type": "markdown",
   "metadata": {},
   "source": [
    "# Decistion Tree"
   ]
  },
  {
   "cell_type": "code",
   "execution_count": 181,
   "metadata": {},
   "outputs": [],
   "source": [
    "from sklearn import tree\n",
    "from sklearn.model_selection import cross_val_score"
   ]
  },
  {
   "cell_type": "code",
   "execution_count": 182,
   "metadata": {},
   "outputs": [],
   "source": [
    "# cross validation\n",
    "def crossValidationDT(X_train, y_train, hyperparameters, title):\n",
    "    scores = []\n",
    "    for h in hyperparameters:\n",
    "        model = tree.DecisionTreeClassifier(max_depth=h) #penalty='elasticnet', solver=\"saga\", l1_ratio = 0.3)\n",
    "        scores.append(cross_val_score(estimator=model, X=X_train, y=y_train, cv=10).mean())\n",
    "    \n",
    "    plt.plot(hyperparameters,scoresDT)\n",
    "    plt.title(title)\n",
    "    plt.show()\n",
    "    return scores"
   ]
  },
  {
   "cell_type": "code",
   "execution_count": 183,
   "metadata": {},
   "outputs": [
    {
     "data": {
      "image/png": "[encoded data removed]",
      "text/plain": [
       "<Figure size 432x288 with 1 Axes>"
      ]
     },
     "metadata": {
      "needs_background": "light"
     },
     "output_type": "display_data"
    }
   ],
   "source": [
    "scoresDT = crossValidationDT(X_train, y_train, range(3,20), \"Decision Tree CV Accuracy\")"
   ]
  },
  {
   "cell_type": "code",
   "execution_count": 184,
   "metadata": {},
   "outputs": [
    {
     "name": "stdout",
     "output_type": "stream",
     "text": [
      "train accuracy: 0.6677018633540373\n",
      "test accuracy: 0.6550362080315998\n",
      "train f-score: 0.5619650167473019\n",
      "test f-score: 0.5683690280065897\n"
     ]
    }
   ],
   "source": [
    "# define dt model\n",
    "dt = tree.DecisionTreeClassifier(max_depth=4)\n",
    "modeldt = modelEval(X_train, y_train, X_test, y_test, dt, \"dt\")"
   ]
  },
  {
   "cell_type": "markdown",
   "metadata": {},
   "source": [
    "# Gradient Tree Boosting"
   ]
  }
 ],
 "metadata": {
  "kernelspec": {
   "display_name": "Python 3",
   "language": "python",
   "name": "python3"
  },
  "language_info": {
   "codemirror_mode": {
    "name": "ipython",
    "version": 3
   },
   "file_extension": ".py",
   "mimetype": "text/x-python",
   "name": "python",
   "nbconvert_exporter": "python",
   "pygments_lexer": "ipython3",
   "version": "3.7.6"
  }
 },
 "nbformat": 4,
 "nbformat_minor": 4
}
