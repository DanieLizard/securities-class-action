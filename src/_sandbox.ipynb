{
 "cells": [
  {
   "cell_type": "code",
   "execution_count": 55,
   "metadata": {},
   "outputs": [],
   "source": [
    "import os\n",
    "import json\n",
    "import re\n",
    "import sys\n",
    "sys.path.append(\"..\")\n",
    "import requests\n",
    "import pandas as pd\n",
    "from time import time\n",
    "import logging\n",
    "from multiprocessing.pool import ThreadPool"
   ]
  },
  {
   "cell_type": "code",
   "execution_count": 56,
   "metadata": {},
   "outputs": [
    {
     "name": "stderr",
     "output_type": "stream",
     "text": [
      "/Users/yuchen.zhang/opt/anaconda3/lib/python3.7/site-packages/ipykernel_launcher.py:3: SettingWithCopyWarning: \n",
      "A value is trying to be set on a copy of a slice from a DataFrame.\n",
      "Try using .loc[row_indexer,col_indexer] = value instead\n",
      "\n",
      "See the caveats in the documentation: https://pandas.pydata.org/pandas-docs/stable/user_guide/indexing.html#returning-a-view-versus-a-copy\n",
      "  This is separate from the ipykernel package so we can avoid doing imports until\n"
     ]
    },
    {
     "data": {
      "text/plain": [
       "(5771, 5254, 5249)"
      ]
     },
     "execution_count": 56,
     "metadata": {},
     "output_type": "execute_result"
    }
   ],
   "source": [
    "scraped_data = pd.read_csv(\"../../data/data_from_scrapy.csv\")\n",
    "scraped_fic = scraped_data[scraped_data['fic_summary_table'].notna()]\n",
    "scraped_fic[\"id\"] = scraped_fic[\"court\"] + \"_\" + scraped_fic[\"docket\"]\n",
    "\n",
    "# a version without na dockets\n",
    "scraped = scraped_fic[scraped_fic['docket'].notna()]\n",
    "len(scraped_data[scraped_data['court'].isna()]) #0\n",
    "\n",
    "# both\n",
    "len(scraped_data),len(scraped_fic),len(scraped)"
   ]
  },
  {
   "cell_type": "code",
   "execution_count": 57,
   "metadata": {},
   "outputs": [],
   "source": [
    "def countpdf(data):\n",
    "    total = 0\n",
    "    for x,y in withfic.iterrows():\n",
    "        #save subtable\n",
    "        table = pd.read_json(data[\"fic_summary_table\"][x])\n",
    "        total = total + len(table)\n",
    "    return total"
   ]
  },
  {
   "cell_type": "code",
   "execution_count": 58,
   "metadata": {},
   "outputs": [
    {
     "data": {
      "text/plain": [
       "16826"
      ]
     },
     "execution_count": 58,
     "metadata": {},
     "output_type": "execute_result"
    }
   ],
   "source": [
    "countpdf(withfic)"
   ]
  }
 ],
 "metadata": {
  "kernelspec": {
   "display_name": "Python 3",
   "language": "python",
   "name": "python3"
  },
  "language_info": {
   "codemirror_mode": {
    "name": "ipython",
    "version": 3
   },
   "file_extension": ".py",
   "mimetype": "text/x-python",
   "name": "python",
   "nbconvert_exporter": "python",
   "pygments_lexer": "ipython3",
   "version": "3.7.6"
  }
 },
 "nbformat": 4,
 "nbformat_minor": 4
}
