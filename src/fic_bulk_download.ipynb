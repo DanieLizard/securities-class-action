{
 "cells": [
  {
   "cell_type": "markdown",
   "metadata": {},
   "source": [
    "# Bulk download fic pdfs"
   ]
  },
  {
   "cell_type": "code",
   "execution_count": 50,
   "metadata": {},
   "outputs": [],
   "source": [
    "import os\n",
    "import json\n",
    "import sys\n",
    "sys.path.append(\"..\")\n",
    "import requests\n",
    "import pandas as pd\n",
    "from time import time\n",
    "from multiprocessing.pool import ThreadPool"
   ]
  },
  {
   "cell_type": "code",
   "execution_count": 52,
   "metadata": {},
   "outputs": [
    {
     "data": {
      "text/plain": [
       "'/Users/yuchen.zhang/Documents/Projects/Class_Action/class_action_git/src'"
      ]
     },
     "execution_count": 52,
     "metadata": {},
     "output_type": "execute_result"
    }
   ],
   "source": [
    "pwd"
   ]
  },
  {
   "cell_type": "code",
   "execution_count": 51,
   "metadata": {},
   "outputs": [],
   "source": [
    "# Load input data\n",
    "scraped_data = pd.read_csv(\"../data/data_from_scrapy.csv\")"
   ]
  },
  {
   "cell_type": "code",
   "execution_count": 44,
   "metadata": {},
   "outputs": [
    {
     "data": {
      "text/html": [
       "<div>\n",
       "<style scoped>\n",
       "    .dataframe tbody tr th:only-of-type {\n",
       "        vertical-align: middle;\n",
       "    }\n",
       "\n",
       "    .dataframe tbody tr th {\n",
       "        vertical-align: top;\n",
       "    }\n",
       "\n",
       "    .dataframe thead th {\n",
       "        text-align: right;\n",
       "    }\n",
       "</style>\n",
       "<table border=\"1\" class=\"dataframe\">\n",
       "  <thead>\n",
       "    <tr style=\"text-align: right;\">\n",
       "      <th></th>\n",
       "      <th>No</th>\n",
       "      <th>Document Title</th>\n",
       "      <th>Filing Date</th>\n",
       "      <th>link</th>\n",
       "    </tr>\n",
       "  </thead>\n",
       "  <tbody>\n",
       "    <tr>\n",
       "      <th>0</th>\n",
       "      <td>1</td>\n",
       "      <td>Class Action Complaint</td>\n",
       "      <td>07/07/2020</td>\n",
       "      <td>http://securities.stanford.edu/filings-documen...</td>\n",
       "    </tr>\n",
       "    <tr>\n",
       "      <th>1</th>\n",
       "      <td>2</td>\n",
       "      <td>U.S. District Court Civil Docket</td>\n",
       "      <td>07/07/2020</td>\n",
       "      <td>http://securities.stanford.edu/filings-documen...</td>\n",
       "    </tr>\n",
       "  </tbody>\n",
       "</table>\n",
       "</div>"
      ],
      "text/plain": [
       "   No                    Document Title Filing Date  \\\n",
       "0   1            Class Action Complaint  07/07/2020   \n",
       "1   2  U.S. District Court Civil Docket  07/07/2020   \n",
       "\n",
       "                                                link  \n",
       "0  http://securities.stanford.edu/filings-documen...  \n",
       "1  http://securities.stanford.edu/filings-documen...  "
      ]
     },
     "execution_count": 44,
     "metadata": {},
     "output_type": "execute_result"
    }
   ],
   "source": [
    "# Example fic summary table\n",
    "pd.read_json(scraped_data[\"fic_summary_table\"][0])"
   ]
  },
  {
   "cell_type": "code",
   "execution_count": 42,
   "metadata": {},
   "outputs": [],
   "source": [
    "# Set Output Folder location\n",
    "output_folder = \"/Users/yuchen.zhang/Documents/Projects/Class_Action/class_action_git/data/Case Filings\""
   ]
  },
  {
   "cell_type": "code",
   "execution_count": 27,
   "metadata": {},
   "outputs": [],
   "source": [
    "# Function to download a pdf from a link\n",
    "def url_response(url):\n",
    "    path, url = url\n",
    "    r = requests.get(url, stream = True)\n",
    "    \n",
    "    with open(output_folder + \"/\" + path,\"wb\") as pdf: \n",
    "        for chunk in r.iter_content(chunk_size=1024): \n",
    "\n",
    "             # writing one chunk at a time to pdf file \n",
    "             if chunk: \n",
    "                 pdf.write(chunk)"
   ]
  },
  {
   "cell_type": "code",
   "execution_count": 30,
   "metadata": {},
   "outputs": [],
   "source": [
    "# Function to bulk download\n",
    "def downloadall(data):\n",
    "    #Loop through data (scraped data)\n",
    "    for x in range(0, len(data)):\n",
    "        table = pd.read_json(data[\"fic_summary_table\"][x])\n",
    "        print(x)\n",
    "        \n",
    "        #Loop through each document in fic_summary_table\n",
    "        for i, j in table.iterrows():\n",
    "            filename = data[\"docket\"][x] + \"_\" + table[\"Document Title\"][i] + \"_\" + table[\"Filing Date\"][i].replace(\"/\",\"\")\n",
    "            print(filename)\n",
    "            url_response([filename, table[\"link\"][i]])"
   ]
  },
  {
   "cell_type": "code",
   "execution_count": 32,
   "metadata": {},
   "outputs": [
    {
     "name": "stdout",
     "output_type": "stream",
     "text": [
      "0\n",
      "20-CV-81063_Class Action Complaint_07072020\n",
      "20-CV-81063_U.S. District Court Civil Docket_07072020\n",
      "1\n",
      "20-CV-02886_Class Action Complaint for Violations of the Federal Securities Laws_06302020\n",
      "20-CV-02886_U.S. District Court Civil Docket_07092020\n",
      "2\n",
      "20-CV-04289_Class Action Complaint_06292020\n",
      "20-CV-04289_U.S. District Court Civil Docket_06302020\n",
      "3\n",
      "20-CV-03326_Complaint - Class Action_07072020\n",
      "20-CV-03326_U.S. District Court Civil Docket_07082020\n",
      "4\n",
      "20-CV-02918_Complaint for Violation of Federal Securities Laws_07012020\n",
      "20-CV-02918_U.S. District Court Civil Docket_07032020\n",
      "5\n",
      "20-CV-05156_Class Action Complaint_07062020\n",
      "20-CV-05156_Class Action Complaint_07072020\n",
      "20-CV-05156_U.S. District Court Civil Docket_07072020\n",
      "6\n",
      "20-CV-04953_Class Action Complaint for Violation of the Federal Securities Laws_06292020\n",
      "20-CV-04953_U.S. District Court Civil Docket_07012020\n",
      "7\n",
      "20-CV-04944_Class Action Complaint for Violation of the Federal Securities Laws_06282020\n",
      "20-CV-04944_Class Action Complaint for Violation of the Federal Securities Laws_06292020\n",
      "20-CV-04944_U.S. District Court Civil Docket_06292020\n",
      "8\n",
      "20-CV-00955_Class Action Complaint for Violations of the Federal Securities Laws_06262020\n",
      "20-CV-00955_U.S. District Court Civil Docket_06262020\n",
      "9\n",
      "20-CV-00858_Complaint for Violation of the Securities Exchange Act of 1934_06262020\n",
      "20-CV-00858_U.S. District Court Civil Docket_07012020\n"
     ]
    }
   ],
   "source": [
    "#downloadall(scraped_data）"
   ]
  }
 ],
 "metadata": {
  "kernelspec": {
   "display_name": "Python 3",
   "language": "python",
   "name": "python3"
  },
  "language_info": {
   "codemirror_mode": {
    "name": "ipython",
    "version": 3
   },
   "file_extension": ".py",
   "mimetype": "text/x-python",
   "name": "python",
   "nbconvert_exporter": "python",
   "pygments_lexer": "ipython3",
   "version": "3.7.6"
  }
 },
 "nbformat": 4,
 "nbformat_minor": 4
}
