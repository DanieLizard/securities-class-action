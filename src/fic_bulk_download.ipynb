{
 "cells": [
  {
   "cell_type": "markdown",
   "metadata": {},
   "source": [
    "# Bulk download fic pdfs"
   ]
  },
  {
   "cell_type": "code",
   "execution_count": 105,
   "metadata": {},
   "outputs": [],
   "source": [
    "import os\n",
    "import json\n",
    "import re\n",
    "import sys\n",
    "sys.path.append(\"..\")\n",
    "import requests\n",
    "import pandas as pd\n",
    "from time import time\n",
    "import logging\n",
    "from multiprocessing.pool import ThreadPool"
   ]
  },
  {
   "cell_type": "code",
   "execution_count": 2,
   "metadata": {},
   "outputs": [
    {
     "data": {
      "text/plain": [
       "'/Users/yuchen.zhang/Documents/Projects/Class_Action/class-action-git/src'"
      ]
     },
     "execution_count": 2,
     "metadata": {},
     "output_type": "execute_result"
    }
   ],
   "source": [
    "pwd"
   ]
  },
  {
   "cell_type": "code",
   "execution_count": 3,
   "metadata": {},
   "outputs": [],
   "source": [
    "# Load input data\n",
    "scraped_data = pd.read_csv(\"../../data/data_from_scrapy.csv\")"
   ]
  },
  {
   "cell_type": "code",
   "execution_count": 4,
   "metadata": {},
   "outputs": [
    {
     "data": {
      "text/html": [
       "<div>\n",
       "<style scoped>\n",
       "    .dataframe tbody tr th:only-of-type {\n",
       "        vertical-align: middle;\n",
       "    }\n",
       "\n",
       "    .dataframe tbody tr th {\n",
       "        vertical-align: top;\n",
       "    }\n",
       "\n",
       "    .dataframe thead th {\n",
       "        text-align: right;\n",
       "    }\n",
       "</style>\n",
       "<table border=\"1\" class=\"dataframe\">\n",
       "  <thead>\n",
       "    <tr style=\"text-align: right;\">\n",
       "      <th></th>\n",
       "      <th>No</th>\n",
       "      <th>Document Title</th>\n",
       "      <th>Filing Date</th>\n",
       "      <th>link</th>\n",
       "    </tr>\n",
       "  </thead>\n",
       "  <tbody>\n",
       "    <tr>\n",
       "      <th>0</th>\n",
       "      <td>1</td>\n",
       "      <td>Complaint - Class Action</td>\n",
       "      <td>07/07/2020</td>\n",
       "      <td>http://securities.stanford.edu/filings-documen...</td>\n",
       "    </tr>\n",
       "    <tr>\n",
       "      <th>1</th>\n",
       "      <td>2</td>\n",
       "      <td>U.S. District Court Civil Docket</td>\n",
       "      <td>07/08/2020</td>\n",
       "      <td>http://securities.stanford.edu/filings-documen...</td>\n",
       "    </tr>\n",
       "  </tbody>\n",
       "</table>\n",
       "</div>"
      ],
      "text/plain": [
       "   No                    Document Title Filing Date  \\\n",
       "0   1          Complaint - Class Action  07/07/2020   \n",
       "1   2  U.S. District Court Civil Docket  07/08/2020   \n",
       "\n",
       "                                                link  \n",
       "0  http://securities.stanford.edu/filings-documen...  \n",
       "1  http://securities.stanford.edu/filings-documen...  "
      ]
     },
     "execution_count": 4,
     "metadata": {},
     "output_type": "execute_result"
    }
   ],
   "source": [
    "# Example fic summary table\n",
    "pd.read_json(scraped_data[\"fic_summary_table\"][0])"
   ]
  },
  {
   "cell_type": "code",
   "execution_count": 93,
   "metadata": {},
   "outputs": [],
   "source": [
    "# Set Output Folder location\n",
    "output_folder = \"/Volumes/yz-drive/class-action-complaints\""
   ]
  },
  {
   "cell_type": "code",
   "execution_count": 94,
   "metadata": {},
   "outputs": [],
   "source": [
    "# Function to download a pdf from a link\n",
    "def url_response(url):\n",
    "    path, url = url\n",
    "    r = requests.get(url, stream = True)\n",
    "    \n",
    "    with open(output_folder + \"/\" + path,\"wb\") as pdf: \n",
    "        for chunk in r.iter_content(chunk_size=1024): \n",
    "\n",
    "            # writing one chunk at a time to pdf file \n",
    "            if chunk: \n",
    "                 pdf.write(chunk)"
   ]
  },
  {
   "cell_type": "code",
   "execution_count": 269,
   "metadata": {},
   "outputs": [],
   "source": [
    "# Function to bulk download\n",
    "def downloadall(data_raw):\n",
    "    #remove entry where fic_summary_table is not found\n",
    "    data = data_raw[data_raw['fic_summary_table'].notna()]\n",
    "    #a new dictionary for each docket and document\n",
    "    documentDic = {}\n",
    "    \n",
    "    #loop through data (scraped data)\n",
    "    for x,y in data.iterrows():\n",
    "        #save subtable\n",
    "        table = pd.read_json(data[\"fic_summary_table\"][x])\n",
    "        print(x)\n",
    "        \n",
    "        #save docket\n",
    "        docket = data[\"docket\"][x]\n",
    "        if pd.isnull(docket):\n",
    "            docket = \"not found\"\n",
    "        \n",
    "        #loop through each document in fic_summary_table\n",
    "        for i, j in table.iterrows():\n",
    "            \n",
    "            #save title and date to be parts of the dictionary and file name\n",
    "            title = table[\"Document Title\"][i][0:200].replace(\"/\",\"\")\n",
    "            date = table[\"Filing Date\"][i].replace(\"/\",\"\")\n",
    "            title_date = title + \"_\" + date\n",
    "            \n",
    "            if docket not in documentDic:\n",
    "                documentDic[docket] = [title_date]\n",
    "            else:\n",
    "                documentDic = documentDic[docket] + [title_date]\n",
    "\n",
    "            filename = docket + \"_\" + title + \"_\" + date + \".pdf\"\n",
    "            print(filename)\n",
    "            url_response([filename, table[\"link\"][i]])"
   ]
  },
  {
   "cell_type": "code",
   "execution_count": 271,
   "metadata": {},
   "outputs": [],
   "source": [
    "#downloadall(scraped_data)"
   ]
  }
 ],
 "metadata": {
  "kernelspec": {
   "display_name": "Python 3",
   "language": "python",
   "name": "python3"
  },
  "language_info": {
   "codemirror_mode": {
    "name": "ipython",
    "version": 3
   },
   "file_extension": ".py",
   "mimetype": "text/x-python",
   "name": "python",
   "nbconvert_exporter": "python",
   "pygments_lexer": "ipython3",
   "version": "3.7.6"
  }
 },
 "nbformat": 4,
 "nbformat_minor": 4
}
