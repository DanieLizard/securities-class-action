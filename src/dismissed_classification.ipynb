{
 "cells": [
  {
   "cell_type": "code",
   "execution_count": 1,
   "metadata": {},
   "outputs": [],
   "source": [
    "import os\n",
    "import pandas as pd\n",
    "import numpy as np\n",
    "import seaborn as sns\n",
    "import datetime\n",
    "import sys\n",
    "sys.path.append(\"..\")\n",
    "from functions.functions_analysis import *"
   ]
  },
  {
   "cell_type": "markdown",
   "metadata": {},
   "source": [
    "# Import data"
   ]
  },
  {
   "cell_type": "code",
   "execution_count": 2,
   "metadata": {},
   "outputs": [
    {
     "data": {
      "text/plain": [
       "(5771, 5771)"
      ]
     },
     "execution_count": 2,
     "metadata": {},
     "output_type": "execute_result"
    }
   ],
   "source": [
    "sumtable = pd.read_excel(\"../../data/summary_table_all.xlsx\")\n",
    "sumtable.drop('Unnamed: 0', axis = 1,inplace = True)\n",
    "\n",
    "scraped_data = pd.read_csv(\"../../data/data_from_scrapy.csv\")\n",
    "\n",
    "#length\n",
    "len(sumtable),len(scraped_data)"
   ]
  },
  {
   "cell_type": "code",
   "execution_count": 3,
   "metadata": {},
   "outputs": [
    {
     "data": {
      "text/html": [
       "<div>\n",
       "<style scoped>\n",
       "    .dataframe tbody tr th:only-of-type {\n",
       "        vertical-align: middle;\n",
       "    }\n",
       "\n",
       "    .dataframe tbody tr th {\n",
       "        vertical-align: top;\n",
       "    }\n",
       "\n",
       "    .dataframe thead th {\n",
       "        text-align: right;\n",
       "    }\n",
       "</style>\n",
       "<table border=\"1\" class=\"dataframe\">\n",
       "  <thead>\n",
       "    <tr style=\"text-align: right;\">\n",
       "      <th></th>\n",
       "      <th>case_brief</th>\n",
       "      <th>case_name</th>\n",
       "      <th>case_status</th>\n",
       "      <th>class_period_end</th>\n",
       "      <th>class_period_start</th>\n",
       "      <th>company_market</th>\n",
       "      <th>court</th>\n",
       "      <th>date_filed</th>\n",
       "      <th>date_of_last_review</th>\n",
       "      <th>docket</th>\n",
       "      <th>...</th>\n",
       "      <th>fic_links_list</th>\n",
       "      <th>fic_summary_table</th>\n",
       "      <th>headquarters</th>\n",
       "      <th>industry</th>\n",
       "      <th>judge</th>\n",
       "      <th>market_status</th>\n",
       "      <th>plaintiffs</th>\n",
       "      <th>sector</th>\n",
       "      <th>ticker_symbol</th>\n",
       "      <th>url</th>\n",
       "    </tr>\n",
       "  </thead>\n",
       "  <tbody>\n",
       "    <tr>\n",
       "      <th>0</th>\n",
       "      <td>According to the Complaint, Wirecard is a tech...</td>\n",
       "      <td>Wirecard AG Securities Litigation</td>\n",
       "      <td>ONGOING</td>\n",
       "      <td>6/24/20</td>\n",
       "      <td>8/17/15</td>\n",
       "      <td>OTC-BB</td>\n",
       "      <td>E.D. Pennsylvania</td>\n",
       "      <td>7/7/20</td>\n",
       "      <td>7/8/20</td>\n",
       "      <td>20-CV-03326</td>\n",
       "      <td>...</td>\n",
       "      <td>http://securities.stanford.edu/filings-documen...</td>\n",
       "      <td>{\"No\":{\"0\":\"1\",\"1\":\"2\"},\"Document Title\":{\"0\":...</td>\n",
       "      <td>Germany</td>\n",
       "      <td>Software &amp; Programming</td>\n",
       "      <td>Hon. ANITA B. BRODY</td>\n",
       "      <td>Public (Listed)</td>\n",
       "      <td>The Rosen Law Firm, P.A. (Jenkintown)</td>\n",
       "      <td>Technology</td>\n",
       "      <td>WCAGY</td>\n",
       "      <td>http://securities.stanford.edu/filings-case.ht...</td>\n",
       "    </tr>\n",
       "    <tr>\n",
       "      <th>1</th>\n",
       "      <td>According to the Complaint, Finjan Holdings, I...</td>\n",
       "      <td>Finjan Holdings, Inc. Securities Litigation</td>\n",
       "      <td>ONGOING</td>\n",
       "      <td>6/29/20</td>\n",
       "      <td>6/10/20</td>\n",
       "      <td>NASDAQ</td>\n",
       "      <td>N.D. California</td>\n",
       "      <td>6/29/20</td>\n",
       "      <td>6/30/20</td>\n",
       "      <td>20-CV-04289</td>\n",
       "      <td>...</td>\n",
       "      <td>http://securities.stanford.edu/filings-documen...</td>\n",
       "      <td>{\"No\":{\"0\":\"1\",\"1\":\"2\"},\"Document Title\":{\"0\":...</td>\n",
       "      <td>United States</td>\n",
       "      <td>Software &amp; Programming</td>\n",
       "      <td>Hon. Edward M. Chen</td>\n",
       "      <td>Public (Listed)</td>\n",
       "      <td>Brodsky &amp; Smith, LLC  (California)</td>\n",
       "      <td>Technology</td>\n",
       "      <td>FNJN</td>\n",
       "      <td>http://securities.stanford.edu/filings-case.ht...</td>\n",
       "    </tr>\n",
       "    <tr>\n",
       "      <th>2</th>\n",
       "      <td>According to the Complaint, Chembio Diagnostic...</td>\n",
       "      <td>Chembio Diagnostics, Inc. Securities Litigation</td>\n",
       "      <td>ONGOING</td>\n",
       "      <td>7/1/20</td>\n",
       "      <td>6/16/20</td>\n",
       "      <td>NASDAQ</td>\n",
       "      <td>E.D. New York</td>\n",
       "      <td>7/1/20</td>\n",
       "      <td>7/3/20</td>\n",
       "      <td>20-CV-02918</td>\n",
       "      <td>...</td>\n",
       "      <td>http://securities.stanford.edu/filings-documen...</td>\n",
       "      <td>{\"No\":{\"0\":\"1\",\"1\":\"2\"},\"Document Title\":{\"0\":...</td>\n",
       "      <td>United States</td>\n",
       "      <td>Biotechnology &amp; Drugs</td>\n",
       "      <td>Hon. Sandra J. Feuerstein</td>\n",
       "      <td>Public (Listed)</td>\n",
       "      <td>Fields Kupka &amp; Shukurov LLP\\n\\t\\t\\t\\t\\t\\t\\t\\t\\...</td>\n",
       "      <td>Healthcare</td>\n",
       "      <td>CEMI</td>\n",
       "      <td>http://securities.stanford.edu/filings-case.ht...</td>\n",
       "    </tr>\n",
       "  </tbody>\n",
       "</table>\n",
       "<p>3 rows × 21 columns</p>\n",
       "</div>"
      ],
      "text/plain": [
       "                                          case_brief  \\\n",
       "0  According to the Complaint, Wirecard is a tech...   \n",
       "1  According to the Complaint, Finjan Holdings, I...   \n",
       "2  According to the Complaint, Chembio Diagnostic...   \n",
       "\n",
       "                                         case_name case_status  \\\n",
       "0                Wirecard AG Securities Litigation     ONGOING   \n",
       "1      Finjan Holdings, Inc. Securities Litigation     ONGOING   \n",
       "2  Chembio Diagnostics, Inc. Securities Litigation     ONGOING   \n",
       "\n",
       "  class_period_end class_period_start company_market              court  \\\n",
       "0          6/24/20            8/17/15         OTC-BB  E.D. Pennsylvania   \n",
       "1          6/29/20            6/10/20         NASDAQ    N.D. California   \n",
       "2           7/1/20            6/16/20         NASDAQ      E.D. New York   \n",
       "\n",
       "  date_filed date_of_last_review       docket  ...  \\\n",
       "0     7/7/20              7/8/20  20-CV-03326  ...   \n",
       "1    6/29/20             6/30/20  20-CV-04289  ...   \n",
       "2     7/1/20              7/3/20  20-CV-02918  ...   \n",
       "\n",
       "                                      fic_links_list  \\\n",
       "0  http://securities.stanford.edu/filings-documen...   \n",
       "1  http://securities.stanford.edu/filings-documen...   \n",
       "2  http://securities.stanford.edu/filings-documen...   \n",
       "\n",
       "                                   fic_summary_table   headquarters  \\\n",
       "0  {\"No\":{\"0\":\"1\",\"1\":\"2\"},\"Document Title\":{\"0\":...        Germany   \n",
       "1  {\"No\":{\"0\":\"1\",\"1\":\"2\"},\"Document Title\":{\"0\":...  United States   \n",
       "2  {\"No\":{\"0\":\"1\",\"1\":\"2\"},\"Document Title\":{\"0\":...  United States   \n",
       "\n",
       "                 industry                      judge    market_status  \\\n",
       "0  Software & Programming        Hon. ANITA B. BRODY  Public (Listed)   \n",
       "1  Software & Programming        Hon. Edward M. Chen  Public (Listed)   \n",
       "2   Biotechnology & Drugs  Hon. Sandra J. Feuerstein  Public (Listed)   \n",
       "\n",
       "                                          plaintiffs      sector  \\\n",
       "0              The Rosen Law Firm, P.A. (Jenkintown)  Technology   \n",
       "1                 Brodsky & Smith, LLC  (California)  Technology   \n",
       "2  Fields Kupka & Shukurov LLP\\n\\t\\t\\t\\t\\t\\t\\t\\t\\...  Healthcare   \n",
       "\n",
       "  ticker_symbol                                                url  \n",
       "0         WCAGY  http://securities.stanford.edu/filings-case.ht...  \n",
       "1          FNJN  http://securities.stanford.edu/filings-case.ht...  \n",
       "2          CEMI  http://securities.stanford.edu/filings-case.ht...  \n",
       "\n",
       "[3 rows x 21 columns]"
      ]
     },
     "execution_count": 3,
     "metadata": {},
     "output_type": "execute_result"
    }
   ],
   "source": [
    "scraped_data.head(3)"
   ]
  },
  {
   "cell_type": "markdown",
   "metadata": {},
   "source": [
    "# Data Prepossing"
   ]
  },
  {
   "cell_type": "code",
   "execution_count": 133,
   "metadata": {},
   "outputs": [],
   "source": [
    "import numpy as np\n",
    "from sklearn.model_selection import train_test_split\n",
    "from sklearn.preprocessing import OneHotEncoder\n",
    "from sklearn.preprocessing import LabelEncoder\n",
    "from sklearn.preprocessing import normalize"
   ]
  },
  {
   "cell_type": "code",
   "execution_count": 5,
   "metadata": {},
   "outputs": [],
   "source": [
    "sumtable[\"case_id\"] = sumtable.index\n",
    "scraped_data[\"case_id\"] = scraped_data.index"
   ]
  },
  {
   "cell_type": "code",
   "execution_count": 6,
   "metadata": {},
   "outputs": [
    {
     "data": {
      "text/html": [
       "<div>\n",
       "<style scoped>\n",
       "    .dataframe tbody tr th:only-of-type {\n",
       "        vertical-align: middle;\n",
       "    }\n",
       "\n",
       "    .dataframe tbody tr th {\n",
       "        vertical-align: top;\n",
       "    }\n",
       "\n",
       "    .dataframe thead th {\n",
       "        text-align: right;\n",
       "    }\n",
       "</style>\n",
       "<table border=\"1\" class=\"dataframe\">\n",
       "  <thead>\n",
       "    <tr style=\"text-align: right;\">\n",
       "      <th></th>\n",
       "      <th>case_brief</th>\n",
       "      <th>case_name</th>\n",
       "      <th>case_status</th>\n",
       "      <th>class_period_end</th>\n",
       "      <th>class_period_start</th>\n",
       "      <th>company_market</th>\n",
       "      <th>court</th>\n",
       "      <th>date_filed</th>\n",
       "      <th>date_of_last_review</th>\n",
       "      <th>docket</th>\n",
       "      <th>...</th>\n",
       "      <th>fic_summary_table</th>\n",
       "      <th>headquarters</th>\n",
       "      <th>industry</th>\n",
       "      <th>judge</th>\n",
       "      <th>market_status</th>\n",
       "      <th>plaintiffs</th>\n",
       "      <th>sector</th>\n",
       "      <th>ticker_symbol</th>\n",
       "      <th>url</th>\n",
       "      <th>case_id</th>\n",
       "    </tr>\n",
       "  </thead>\n",
       "  <tbody>\n",
       "    <tr>\n",
       "      <th>0</th>\n",
       "      <td>According to the Complaint, Wirecard is a tech...</td>\n",
       "      <td>Wirecard AG Securities Litigation</td>\n",
       "      <td>ONGOING</td>\n",
       "      <td>6/24/20</td>\n",
       "      <td>8/17/15</td>\n",
       "      <td>OTC-BB</td>\n",
       "      <td>E.D. Pennsylvania</td>\n",
       "      <td>7/7/20</td>\n",
       "      <td>7/8/20</td>\n",
       "      <td>20-CV-03326</td>\n",
       "      <td>...</td>\n",
       "      <td>{\"No\":{\"0\":\"1\",\"1\":\"2\"},\"Document Title\":{\"0\":...</td>\n",
       "      <td>Germany</td>\n",
       "      <td>Software &amp; Programming</td>\n",
       "      <td>Hon. ANITA B. BRODY</td>\n",
       "      <td>Public (Listed)</td>\n",
       "      <td>The Rosen Law Firm, P.A. (Jenkintown)</td>\n",
       "      <td>Technology</td>\n",
       "      <td>WCAGY</td>\n",
       "      <td>http://securities.stanford.edu/filings-case.ht...</td>\n",
       "      <td>0</td>\n",
       "    </tr>\n",
       "    <tr>\n",
       "      <th>1</th>\n",
       "      <td>According to the Complaint, Finjan Holdings, I...</td>\n",
       "      <td>Finjan Holdings, Inc. Securities Litigation</td>\n",
       "      <td>ONGOING</td>\n",
       "      <td>6/29/20</td>\n",
       "      <td>6/10/20</td>\n",
       "      <td>NASDAQ</td>\n",
       "      <td>N.D. California</td>\n",
       "      <td>6/29/20</td>\n",
       "      <td>6/30/20</td>\n",
       "      <td>20-CV-04289</td>\n",
       "      <td>...</td>\n",
       "      <td>{\"No\":{\"0\":\"1\",\"1\":\"2\"},\"Document Title\":{\"0\":...</td>\n",
       "      <td>United States</td>\n",
       "      <td>Software &amp; Programming</td>\n",
       "      <td>Hon. Edward M. Chen</td>\n",
       "      <td>Public (Listed)</td>\n",
       "      <td>Brodsky &amp; Smith, LLC  (California)</td>\n",
       "      <td>Technology</td>\n",
       "      <td>FNJN</td>\n",
       "      <td>http://securities.stanford.edu/filings-case.ht...</td>\n",
       "      <td>1</td>\n",
       "    </tr>\n",
       "  </tbody>\n",
       "</table>\n",
       "<p>2 rows × 22 columns</p>\n",
       "</div>"
      ],
      "text/plain": [
       "                                          case_brief  \\\n",
       "0  According to the Complaint, Wirecard is a tech...   \n",
       "1  According to the Complaint, Finjan Holdings, I...   \n",
       "\n",
       "                                     case_name case_status class_period_end  \\\n",
       "0            Wirecard AG Securities Litigation     ONGOING          6/24/20   \n",
       "1  Finjan Holdings, Inc. Securities Litigation     ONGOING          6/29/20   \n",
       "\n",
       "  class_period_start company_market              court date_filed  \\\n",
       "0            8/17/15         OTC-BB  E.D. Pennsylvania     7/7/20   \n",
       "1            6/10/20         NASDAQ    N.D. California    6/29/20   \n",
       "\n",
       "  date_of_last_review       docket  ...  \\\n",
       "0              7/8/20  20-CV-03326  ...   \n",
       "1             6/30/20  20-CV-04289  ...   \n",
       "\n",
       "                                   fic_summary_table   headquarters  \\\n",
       "0  {\"No\":{\"0\":\"1\",\"1\":\"2\"},\"Document Title\":{\"0\":...        Germany   \n",
       "1  {\"No\":{\"0\":\"1\",\"1\":\"2\"},\"Document Title\":{\"0\":...  United States   \n",
       "\n",
       "                 industry                judge    market_status  \\\n",
       "0  Software & Programming  Hon. ANITA B. BRODY  Public (Listed)   \n",
       "1  Software & Programming  Hon. Edward M. Chen  Public (Listed)   \n",
       "\n",
       "                              plaintiffs      sector ticker_symbol  \\\n",
       "0  The Rosen Law Firm, P.A. (Jenkintown)  Technology         WCAGY   \n",
       "1     Brodsky & Smith, LLC  (California)  Technology          FNJN   \n",
       "\n",
       "                                                 url case_id  \n",
       "0  http://securities.stanford.edu/filings-case.ht...       0  \n",
       "1  http://securities.stanford.edu/filings-case.ht...       1  \n",
       "\n",
       "[2 rows x 22 columns]"
      ]
     },
     "execution_count": 6,
     "metadata": {},
     "output_type": "execute_result"
    }
   ],
   "source": [
    "scraped_data[\"case_id\"] = scraped_data.index\n",
    "scraped_data.head(2)"
   ]
  },
  {
   "cell_type": "code",
   "execution_count": 7,
   "metadata": {},
   "outputs": [],
   "source": [
    "#add Concrete Exchange Information (company_market only listed primary)\n",
    "def findExchange(ticker):\n",
    "    return sumtable[\"Exchange\"][sumtable[\"Ticker\"]==ticker].unique()\n",
    "scraped_data[\"exchange\"]=scraped_data[\"ticker_symbol\"].apply(lambda x: findExchange(x))"
   ]
  },
  {
   "cell_type": "code",
   "execution_count": 110,
   "metadata": {},
   "outputs": [],
   "source": [
    "#calculate duration\n",
    "scraped_data[\"class_period_start\"] = pd.to_datetime(scraped_data[\"class_period_start\"])\n",
    "scraped_data[\"class_period_end\"] = pd.to_datetime(scraped_data[\"class_period_end\"])\n",
    "scraped_data[\"date_filed\"] = pd.to_datetime(scraped_data[\"date_filed\"])\n",
    "scraped_data[\"class_duration\"] = scraped_data[\"class_period_end\"] - scraped_data[\"class_period_start\"]"
   ]
  },
  {
   "cell_type": "code",
   "execution_count": 185,
   "metadata": {},
   "outputs": [],
   "source": [
    "#subset the data to features needed\n",
    "data = scraped_data[[\"case_status\",\n",
    "                    \"class_period_end\",\n",
    "                    \"class_period_start\",\n",
    "                    \"company_market\",\n",
    "                    \"court\",\n",
    "                    \"date_filed\",\n",
    "                    \"headquarters\",\n",
    "                    \"industry\",\n",
    "                    \"judge\",\n",
    "                    \"market_status\",\n",
    "                    \"sector\",\n",
    "                    \"class_duration\"]]\n",
    "data = data.dropna()"
   ]
  },
  {
   "cell_type": "code",
   "execution_count": 186,
   "metadata": {},
   "outputs": [],
   "source": [
    "#remove ongoing cases and remove judge as a feature\n",
    "data_input = data[data[\"case_status\"]!=\"ONGOING\"]\n",
    "data_input = data_input.drop(columns = [\"judge\"])"
   ]
  },
  {
   "cell_type": "code",
   "execution_count": null,
   "metadata": {},
   "outputs": [],
   "source": [
    "###To do: word to vec similarity of the case brief"
   ]
  },
  {
   "cell_type": "code",
   "execution_count": 187,
   "metadata": {},
   "outputs": [],
   "source": [
    "#construct X\n",
    "\n",
    "##creating instance of one-hot-encoder\n",
    "enc = OneHotEncoder(handle_unknown='ignore')\n",
    "\n",
    "##identify columns\n",
    "category_columns = [\"company_market\",\"court\",\"headquarters\",\"industry\",\"market_status\"]#,\"sector\"]\n",
    "\n",
    "##fit encoder and transfrom\n",
    "enc.fit(data_input[category_columns].values)\n",
    "X_onehot = enc.transform(data_input[category_columns].values).toarray() #enc.get_feature_names(category_columns)"
   ]
  },
  {
   "cell_type": "code",
   "execution_count": 188,
   "metadata": {},
   "outputs": [],
   "source": [
    "##transform time to utc\n",
    "from datetime import timezone \n",
    "import datetime\n",
    "\n",
    "data_input[\"class_period_end_num\"] = data_input[\"class_period_end\"].apply(lambda x:x.replace(tzinfo = timezone.utc).timestamp())\n",
    "data_input[\"class_period_start_num\"] = data_input[\"class_period_start\"].apply(lambda x:x.replace(tzinfo = timezone.utc).timestamp())\n",
    "data_input[\"date_filed_num\"] = data_input[\"date_filed\"].apply(lambda x:x.replace(tzinfo = timezone.utc).timestamp())\n",
    "data_input[\"class_duration_num\"] = data_input[\"class_period_end_num\"]-data_input[\"class_period_start_num\"]"
   ]
  },
  {
   "cell_type": "code",
   "execution_count": 189,
   "metadata": {},
   "outputs": [],
   "source": [
    "##get other vars for X\n",
    "X_time = data_input[[\"class_period_end_num\",\"class_period_start_num\",\"date_filed_num\",\"class_duration_num\"]].values\n",
    "\n",
    "def time_norm(x_time):\n",
    "    normalized = np.zeros(shape=(X_time.shape[0],1))\n",
    "    for i in range(x_time.shape[1]):\n",
    "        f = np.take(x_time,[i],1)\n",
    "        f = (f- np.min(f))/np.std(f)\n",
    "        #print(normalized.shape,f.shape)\n",
    "        normalized = np.concatenate((normalized,f),1)\n",
    "    \n",
    "    normalized = np.delete(normalized,[0],1)\n",
    "    return normalized\n",
    "        \n",
    "X = np.concatenate((time_norm(X_time),X_onehot),1)"
   ]
  },
  {
   "cell_type": "code",
   "execution_count": 191,
   "metadata": {},
   "outputs": [],
   "source": [
    "#contruct y: label encoder\n",
    "le = LabelEncoder()\n",
    "le.fit(data_input['case_status'].unique())\n",
    "y=le.transform(data_input['case_status'].values).reshape(-1,1)"
   ]
  },
  {
   "cell_type": "code",
   "execution_count": 192,
   "metadata": {},
   "outputs": [
    {
     "data": {
      "text/plain": [
       "((5061, 266), (5061, 1))"
      ]
     },
     "execution_count": 192,
     "metadata": {},
     "output_type": "execute_result"
    }
   ],
   "source": [
    "X.shape,y.shape"
   ]
  },
  {
   "cell_type": "code",
   "execution_count": 193,
   "metadata": {},
   "outputs": [],
   "source": [
    "#create cross validation sets \n",
    "X_train, X_test, y_train, y_test = train_test_split(X, y, test_size=0.30, random_state=777)\n",
    "X_ttrain, X_tval, y_ttrain, y_tval = train_test_split(X_train, y_train, test_size=0.20, random_state=888)"
   ]
  },
  {
   "cell_type": "code",
   "execution_count": 194,
   "metadata": {},
   "outputs": [
    {
     "data": {
      "text/plain": [
       "(2833, 709, 1519)"
      ]
     },
     "execution_count": 194,
     "metadata": {},
     "output_type": "execute_result"
    }
   ],
   "source": [
    "len(X_ttrain),len(X_tval),len(X_test)"
   ]
  },
  {
   "cell_type": "markdown",
   "metadata": {},
   "source": [
    "# Decistion Tree"
   ]
  },
  {
   "cell_type": "code",
   "execution_count": 195,
   "metadata": {},
   "outputs": [],
   "source": [
    "from sklearn import tree\n",
    "from sklearn.model_selection import cross_val_score"
   ]
  },
  {
   "cell_type": "code",
   "execution_count": 196,
   "metadata": {},
   "outputs": [
    {
     "name": "stdout",
     "output_type": "stream",
     "text": [
      "[(3, 0.6476557650990691), (4, 0.6530261796769316), (5, 0.6439906103286385), (6, 0.6403214768839023), (7, 0.6420004774409166), (8, 0.6448245404631177), (9, 0.635239118325774), (10, 0.6377775125328241), (11, 0.6386297445691096), (12, 0.6422972865441234), (13, 0.6358009071377417), (14, 0.640325455558208), (15, 0.6406055542293309), (16, 0.6335386329275084), (17, 0.6380599984085303), (18, 0.6394819766053951), (19, 0.6422956950744012)]\n",
      "[(3, 0.6476557650990691), (4, 0.6530261796769316), (5, 0.6439906103286385), (6, 0.6403214768839023), (7, 0.6420004774409166), (8, 0.6448245404631177), (9, 0.635239118325774), (10, 0.6377775125328241), (11, 0.6386297445691096), (12, 0.6422972865441234), (13, 0.6358009071377417), (14, 0.640325455558208), (15, 0.6406055542293309), (16, 0.6335386329275084), (17, 0.6380599984085303), (18, 0.6394819766053951), (19, 0.6422956950744012)]\n"
     ]
    }
   ],
   "source": [
    "depth_train = []\n",
    "depth_val = []\n",
    "\n",
    "for i in range(3,20):\n",
    "    clf = tree.DecisionTreeClassifier(max_depth=i)\n",
    "    \n",
    "    # Perform 10-fold cross validation \n",
    "    clf = clf.fit(X_train,y_train)\n",
    "    scores_train = clf.score(X_train,y_train)\n",
    "    scores_val = cross_val_score(estimator=clf, X=X_train, y=y_train, cv=10, n_jobs=4)\n",
    "    depth_train.append((i,scores_val.mean()))\n",
    "    depth_val.append((i,scores_val.mean()))\n",
    "print(depth_train)\n",
    "print(depth_val)"
   ]
  },
  {
   "cell_type": "code",
   "execution_count": 197,
   "metadata": {},
   "outputs": [],
   "source": [
    "# plot duration with \n",
    "# stepwise logistic regression"
   ]
  },
  {
   "cell_type": "markdown",
   "metadata": {},
   "source": [
    "## Random Forest"
   ]
  },
  {
   "cell_type": "code",
   "execution_count": 47,
   "metadata": {},
   "outputs": [],
   "source": [
    "from sklearn.ensemble import RandomForestClassifier\n",
    "from sklearn.datasets import make_classification"
   ]
  },
  {
   "cell_type": "code",
   "execution_count": null,
   "metadata": {},
   "outputs": [],
   "source": []
  }
 ],
 "metadata": {
  "kernelspec": {
   "display_name": "Python 3",
   "language": "python",
   "name": "python3"
  },
  "language_info": {
   "codemirror_mode": {
    "name": "ipython",
    "version": 3
   },
   "file_extension": ".py",
   "mimetype": "text/x-python",
   "name": "python",
   "nbconvert_exporter": "python",
   "pygments_lexer": "ipython3",
   "version": "3.7.6"
  }
 },
 "nbformat": 4,
 "nbformat_minor": 4
}
