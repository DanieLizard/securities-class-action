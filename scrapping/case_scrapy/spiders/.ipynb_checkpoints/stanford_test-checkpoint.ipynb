{
 "cells": [
  {
   "cell_type": "code",
   "execution_count": 1,
   "metadata": {},
   "outputs": [],
   "source": [
    "import scrapy\n",
    "from selenium import webdriver\n",
    "import requests\n",
    "from bs4 import BeautifulSoup\n",
    "import pandas as pd\n",
    "import sys\n",
    "sys.path.append(\"../..\")\n",
    "#from case_scrapy.items import case_Items\n",
    "from selenium.webdriver.support.ui import Select\n",
    "from scrapy import Selector\n",
    "import json\n",
    "import re\n",
    "import time\n",
    "import datetime\n",
    "import lxml.html as lh"
   ]
  },
  {
   "cell_type": "markdown",
   "metadata": {},
   "source": [
    "# Scrape Links"
   ]
  },
  {
   "cell_type": "code",
   "execution_count": 20,
   "metadata": {},
   "outputs": [],
   "source": [
    "chromedriver_path = \"/Users/yuchen.zhang/Downloads/Installations/Chromedriver\"\n",
    "driver = webdriver.Chrome(executable_path = chromedriver_path)"
   ]
  },
  {
   "cell_type": "code",
   "execution_count": 21,
   "metadata": {},
   "outputs": [],
   "source": [
    "case_links = []\n",
    "i = 1\n",
    "first_page_html = requests.get(\"http://securities.stanford.edu/filings.html?page=1\").text\n",
    "next_page_html = requests.get(\"http://securities.stanford.edu/filings.html?page=\" + str(i+1)).text\n",
    "\n",
    "while first_page_html != next_page_html:\n",
    "    try:\n",
    "        driver.get(\"http://securities.stanford.edu/filings.html?page=\" + str(i))\n",
    "        sel_case = Selector(text=driver.page_source)\n",
    "        case_links_raw = sel_case.css('tr:nth-child(n)::attr(onclick)').getall()\n",
    "        case_links.append(case_links_raw)\n",
    "        \n",
    "        i += 1\n",
    "        next_page_html = requests.get(\"http://securities.stanford.edu/filings.html?page=\" + str(i)).text\n",
    "    except: break\n",
    "\n",
    "total_pages = i"
   ]
  },
  {
   "cell_type": "code",
   "execution_count": 22,
   "metadata": {},
   "outputs": [],
   "source": [
    "# Change the links to actual links\n",
    "case_links_clean = []\n",
    "for i in range(0, len(case_links)):\n",
    "    for j in range(0, len(case_links[i])):\n",
    "        case_links_clean.append(\"http://securities.stanford.edu/\" + case_links[i][j].replace(\"window.location=\",\"\").replace(\"'\",\"\"))"
   ]
  },
  {
   "cell_type": "code",
   "execution_count": 56,
   "metadata": {},
   "outputs": [],
   "source": [
    "#pd.DataFrame(case_links_clean).to_excel(\"case_links_all.xlsx\")"
   ]
  },
  {
   "cell_type": "markdown",
   "metadata": {},
   "source": [
    "# Scrape a whole table"
   ]
  },
  {
   "cell_type": "code",
   "execution_count": 197,
   "metadata": {},
   "outputs": [],
   "source": [
    "page = requests.get(\"http://securities.stanford.edu/filings.html?page=1\")\n",
    "soup = BeautifulSoup(page.content, 'html.parser')"
   ]
  },
  {
   "cell_type": "code",
   "execution_count": 185,
   "metadata": {},
   "outputs": [
    {
     "name": "stdout",
     "output_type": "stream",
     "text": [
      "Securities Class Action Clearinghouse: Filings Database\n"
     ]
    }
   ],
   "source": [
    "print(soup.title.text)"
   ]
  },
  {
   "cell_type": "code",
   "execution_count": 190,
   "metadata": {},
   "outputs": [
    {
     "name": "stdout",
     "output_type": "stream",
     "text": [
      "['Filing Name', 'Filing Date', 'District Court', 'Exchange', 'Ticker']\n"
     ]
    }
   ],
   "source": [
    "# Get headers of the table\n",
    "case_table = soup.find(\"table\", attrs={\"class\": \"table table-bordered table-striped table-hover\"})\n",
    "table_header = soup.find('thead')\n",
    "header = table_header.find_all('th')\n",
    "header = [x.text.strip() for x in header]\n",
    "print(header)"
   ]
  },
  {
   "cell_type": "code",
   "execution_count": 73,
   "metadata": {},
   "outputs": [],
   "source": [
    "# Get table of the body, saving element row by row\n",
    "table_body = soup.find('tbody')\n",
    "rows = table_body.find_all('tr')\n",
    "table_list = []\n",
    "for row in rows:\n",
    "    cols=row.find_all('td')\n",
    "    cols=[x.text.strip() for x in cols]\n",
    "    table_list.append(cols)"
   ]
  },
  {
   "cell_type": "code",
   "execution_count": 196,
   "metadata": {},
   "outputs": [],
   "source": [
    "# Save the complete table\n",
    "summary_table = pd.DataFrame(table_list)\n",
    "summary_table.columns = header"
   ]
  },
  {
   "cell_type": "code",
   "execution_count": 198,
   "metadata": {},
   "outputs": [],
   "source": [
    "# Make a function \n",
    "def get_summary_table(url):\n",
    "    # Get page\n",
    "    page = requests.get(url)\n",
    "    soup = BeautifulSoup(page.content, 'html.parser')\n",
    "    \n",
    "    # Get headers of the table\n",
    "    case_table = soup.find(\"table\", attrs={\"class\": \"table table-bordered table-striped table-hover\"})\n",
    "    table_header = soup.find('thead')\n",
    "    header = table_header.find_all('th')\n",
    "    header = [x.text.strip() for x in header]\n",
    "    \n",
    "    # Get table of the body, saving element row by row\n",
    "    table_body = soup.find('tbody')\n",
    "    rows = table_body.find_all('tr')\n",
    "    table_list = []\n",
    "    for row in rows:\n",
    "        cols=row.find_all('td')\n",
    "        cols=[x.text.strip() for x in cols]\n",
    "        table_list.append(cols)\n",
    "        \n",
    "    # Save the complete table\n",
    "    summary_table = pd.DataFrame(table_list)\n",
    "    summary_table.columns = header\n",
    "    \n",
    "    return summary_table"
   ]
  },
  {
   "cell_type": "code",
   "execution_count": 238,
   "metadata": {},
   "outputs": [],
   "source": [
    "table_all = pd.DataFrame()\n",
    "for i in range(1, total_pages):\n",
    "    table_all = table_all.append(get_summary_table(\"http://securities.stanford.edu/filings.html?page=\" + str(i)))"
   ]
  },
  {
   "cell_type": "code",
   "execution_count": 240,
   "metadata": {},
   "outputs": [],
   "source": [
    "#pd.DataFrame(table_all).to_excel(\"summary_table_all.xlsx\")"
   ]
  },
  {
   "cell_type": "markdown",
   "metadata": {},
   "source": [
    "# Scrape each page"
   ]
  },
  {
   "cell_type": "code",
   "execution_count": 155,
   "metadata": {},
   "outputs": [],
   "source": [
    "case_links_clean = pd.read_excel(\"case_links_all.xlsx\")\n",
    "case_links_clean = case_links_clean[0].tolist()"
   ]
  },
  {
   "cell_type": "code",
   "execution_count": 156,
   "metadata": {},
   "outputs": [],
   "source": [
    "case_links_clean[0]\n",
    "case_page = requests.get(case_links_clean[0])\n",
    "case_soup = BeautifulSoup(case_page.content, 'html.parser')"
   ]
  },
  {
   "cell_type": "code",
   "execution_count": 228,
   "metadata": {},
   "outputs": [],
   "source": [
    "# Save the final results in a dictionary\n",
    "case_dict = {}"
   ]
  },
  {
   "cell_type": "code",
   "execution_count": 276,
   "metadata": {},
   "outputs": [],
   "source": [
    "# Basic Summary\n",
    "case_url = case_links_clean[0]\n",
    "\n",
    "summary_section = case_soup.find(id = \"summary\")\n",
    "case_name = summary_section.find(\"div\", attrs = {\"class\" : \"page-header hidden-phone\"}).text.strip().replace('Case Summary\\n','')\n",
    "case_name_list = [[\"Case Name\", case_name]]\n",
    "\n",
    "case_dict[\"Case Name\"] = case_name\n",
    "case_dict[\"url\"] = case_url\n"
   ]
  },
  {
   "cell_type": "code",
   "execution_count": 278,
   "metadata": {},
   "outputs": [
    {
     "data": {
      "text/plain": [
       "'http://securities.stanford.edu/filings-case.html?id=107458'"
      ]
     },
     "execution_count": 278,
     "metadata": {},
     "output_type": "execute_result"
    }
   ],
   "source": [
    "case_dict[\"url\"]"
   ]
  },
  {
   "cell_type": "code",
   "execution_count": 238,
   "metadata": {},
   "outputs": [],
   "source": [
    "# Case Summary\n",
    "case_section = case_soup.find(id = \"summary\")\n",
    "case_para = [x.text.strip() for x in case_section.find_all(\"div\", attrs = {\"class\":\"span12\"})]\n",
    "case_dict[\"Case Brief\"] = ''.join(case_para)\n",
    "\n",
    "case_status = case_section.find(\"p\").getText().replace(\"\\n\",\"\").replace(\"\\xa0\",\"\").replace(\"\\t\",\"\")\n",
    "case_status_list = [[\"Case Breif\"] + case_para]\n",
    "for i, x in enumerate(case_status.split(\"  \")):\n",
    "    x = x.strip()\n",
    "    if x == \"Case Status:\":\n",
    "        case_dict[\"Case Status\"] = case_status.split(\"  \")[1]\n",
    "    else:\n",
    "        if x[:12] == \"On or around\":\n",
    "            case_dict[\"Date of last review\"] = x[13:(13+10)]"
   ]
  },
  {
   "cell_type": "code",
   "execution_count": 239,
   "metadata": {},
   "outputs": [
    {
     "data": {
      "text/plain": [
       "{'Case Name': 'The GEO Group, Inc. Securities Litigation',\n",
       " 'Case Brief': 'According to the Complaint, GEO Group is purportedly the first fully integrated equity real estate investment trust specializing in the design, financing, development, and operation of secure facilities, processing centers, and community reentry centers in the U.S., Australia, South Africa, and the United Kingdom. GEO Group is also purportedly a leading provider of enhanced in-custody rehabilitation, post-release support, electronic monitoring, and community-based programs. The Company’s worldwide operation include the ownership and/or management of, among other facilities, halfway houses in the U.S.The Complaint alleges that throughout the Class Period, Defendants made materially false and misleading statements regarding the Company’s business, operational and compliance policies. Specifically, Defendants made false and/or misleading statements and/or failed to disclose that: (i) GEO Group maintained woefully ineffective COVID-19 response procedures; (ii) those inadequate procedures subjected residents of the Company’s halfway houses to significant health risks; (iii) accordingly, the Company was vulnerable to significant financial and/or reputational harm; and (iv) as a result, the Company’s public statements were materially false and misleading at all relevant times.',\n",
       " 'Case Status': 'ONGOING',\n",
       " 'Date of last review': '07/07/2020'}"
      ]
     },
     "execution_count": 239,
     "metadata": {},
     "output_type": "execute_result"
    }
   ],
   "source": [
    "case_dict"
   ]
  },
  {
   "cell_type": "code",
   "execution_count": 242,
   "metadata": {},
   "outputs": [],
   "source": [
    "# Plaintiff\n",
    "plaintiff_section = case_soup.find_all(\"ol\", class_=\"styled\")\n",
    "plaintiff = [x.text.strip() for x in plaintiff_section]\n",
    "plaintiff_list = [[\"Plaintiffs\",''.join(plaintiff[0].split(\"\\n\\n\\n\"))]]\n",
    "case_dict[\"Plaintiffs\"] = plaintiff[0].split(\"\\n\\n\\n\")"
   ]
  },
  {
   "cell_type": "code",
   "execution_count": 243,
   "metadata": {},
   "outputs": [
    {
     "data": {
      "text/plain": [
       "{'Case Name': 'The GEO Group, Inc. Securities Litigation',\n",
       " 'Case Brief': 'According to the Complaint, GEO Group is purportedly the first fully integrated equity real estate investment trust specializing in the design, financing, development, and operation of secure facilities, processing centers, and community reentry centers in the U.S., Australia, South Africa, and the United Kingdom. GEO Group is also purportedly a leading provider of enhanced in-custody rehabilitation, post-release support, electronic monitoring, and community-based programs. The Company’s worldwide operation include the ownership and/or management of, among other facilities, halfway houses in the U.S.The Complaint alleges that throughout the Class Period, Defendants made materially false and misleading statements regarding the Company’s business, operational and compliance policies. Specifically, Defendants made false and/or misleading statements and/or failed to disclose that: (i) GEO Group maintained woefully ineffective COVID-19 response procedures; (ii) those inadequate procedures subjected residents of the Company’s halfway houses to significant health risks; (iii) accordingly, the Company was vulnerable to significant financial and/or reputational harm; and (iv) as a result, the Company’s public statements were materially false and misleading at all relevant times.',\n",
       " 'Case Status': 'ONGOING',\n",
       " 'Date of last review': '07/07/2020',\n",
       " 'Plaintiffs': ['Bronstein, Gewirtz & Grossman, LLC (New York)',\n",
       "  'Pomerantz LLP (New York)',\n",
       "  'Shepherd, Finkelman, Miller & Shah, LLC (Ft. Lauderdale)']}"
      ]
     },
     "execution_count": 243,
     "metadata": {},
     "output_type": "execute_result"
    }
   ],
   "source": [
    "case_dict"
   ]
  },
  {
   "cell_type": "code",
   "execution_count": 246,
   "metadata": {},
   "outputs": [],
   "source": [
    "# Company\n",
    "company_section = case_soup.find(id = \"company\")\n",
    "company = [x.text.strip() for x in company_section.find_all(\"div\", attrs = {\"class\":\"span4\"})]\n",
    "\n",
    "for x in company:\n",
    "    key,value = x.split(\": \")\n",
    "    case_dict[key] = value    "
   ]
  },
  {
   "cell_type": "code",
   "execution_count": 248,
   "metadata": {},
   "outputs": [
    {
     "data": {
      "text/plain": [
       "{'Case Name': 'The GEO Group, Inc. Securities Litigation',\n",
       " 'Case Brief': 'According to the Complaint, GEO Group is purportedly the first fully integrated equity real estate investment trust specializing in the design, financing, development, and operation of secure facilities, processing centers, and community reentry centers in the U.S., Australia, South Africa, and the United Kingdom. GEO Group is also purportedly a leading provider of enhanced in-custody rehabilitation, post-release support, electronic monitoring, and community-based programs. The Company’s worldwide operation include the ownership and/or management of, among other facilities, halfway houses in the U.S.The Complaint alleges that throughout the Class Period, Defendants made materially false and misleading statements regarding the Company’s business, operational and compliance policies. Specifically, Defendants made false and/or misleading statements and/or failed to disclose that: (i) GEO Group maintained woefully ineffective COVID-19 response procedures; (ii) those inadequate procedures subjected residents of the Company’s halfway houses to significant health risks; (iii) accordingly, the Company was vulnerable to significant financial and/or reputational harm; and (iv) as a result, the Company’s public statements were materially false and misleading at all relevant times.',\n",
       " 'Case Status': 'ONGOING',\n",
       " 'Date of last review': '07/07/2020',\n",
       " 'Plaintiffs': ['Bronstein, Gewirtz & Grossman, LLC (New York)',\n",
       "  'Pomerantz LLP (New York)',\n",
       "  'Shepherd, Finkelman, Miller & Shah, LLC (Ft. Lauderdale)'],\n",
       " 'Sector': 'Services',\n",
       " 'Industry': 'Real Estate Operations',\n",
       " 'Headquarters': 'United States',\n",
       " 'Ticker Symbol': 'GEO',\n",
       " 'Company Market': 'New York SE',\n",
       " 'Market Status': 'Public (Listed)'}"
      ]
     },
     "execution_count": 248,
     "metadata": {},
     "output_type": "execute_result"
    }
   ],
   "source": [
    "case_dict"
   ]
  },
  {
   "cell_type": "code",
   "execution_count": 249,
   "metadata": {},
   "outputs": [],
   "source": [
    "# fic (first identified complaint)\n",
    "fic_section = case_soup.find(id = \"fic\")\n",
    "fic = [x.text.strip() for x in fic_section.find_all(\"div\", attrs = {\"class\":\"span4\"})]\n",
    "\n",
    "for x in fic:\n",
    "    key,value = x.split(\": \")\n",
    "    case_dict[key] = value "
   ]
  },
  {
   "cell_type": "code",
   "execution_count": 250,
   "metadata": {},
   "outputs": [
    {
     "data": {
      "text/plain": [
       "{'Case Name': 'The GEO Group, Inc. Securities Litigation',\n",
       " 'Case Brief': 'According to the Complaint, GEO Group is purportedly the first fully integrated equity real estate investment trust specializing in the design, financing, development, and operation of secure facilities, processing centers, and community reentry centers in the U.S., Australia, South Africa, and the United Kingdom. GEO Group is also purportedly a leading provider of enhanced in-custody rehabilitation, post-release support, electronic monitoring, and community-based programs. The Company’s worldwide operation include the ownership and/or management of, among other facilities, halfway houses in the U.S.The Complaint alleges that throughout the Class Period, Defendants made materially false and misleading statements regarding the Company’s business, operational and compliance policies. Specifically, Defendants made false and/or misleading statements and/or failed to disclose that: (i) GEO Group maintained woefully ineffective COVID-19 response procedures; (ii) those inadequate procedures subjected residents of the Company’s halfway houses to significant health risks; (iii) accordingly, the Company was vulnerable to significant financial and/or reputational harm; and (iv) as a result, the Company’s public statements were materially false and misleading at all relevant times.',\n",
       " 'Case Status': 'ONGOING',\n",
       " 'Date of last review': '07/07/2020',\n",
       " 'Plaintiffs': ['Bronstein, Gewirtz & Grossman, LLC (New York)',\n",
       "  'Pomerantz LLP (New York)',\n",
       "  'Shepherd, Finkelman, Miller & Shah, LLC (Ft. Lauderdale)'],\n",
       " 'Sector': 'Services',\n",
       " 'Industry': 'Real Estate Operations',\n",
       " 'Headquarters': 'United States',\n",
       " 'Ticker Symbol': 'GEO',\n",
       " 'Company Market': 'New York SE',\n",
       " 'Market Status': 'Public (Listed)',\n",
       " 'COURT': 'S.D. Florida',\n",
       " 'DOCKET #': '20-CV-81063',\n",
       " 'JUDGE': 'Hon. Rodney Smith',\n",
       " 'DATE FILED': '07/07/2020',\n",
       " 'CLASS PERIOD START': '02/27/2020',\n",
       " 'CLASS PERIOD END': '06/16/2020'}"
      ]
     },
     "execution_count": 250,
     "metadata": {},
     "output_type": "execute_result"
    }
   ],
   "source": [
    "case_dict"
   ]
  },
  {
   "cell_type": "code",
   "execution_count": 167,
   "metadata": {},
   "outputs": [],
   "source": [
    "# fic documents\n",
    "fic_documents = case_soup.find(\"table\", {\"class\", \"table table-bordered table-striped table-hover\"})"
   ]
  },
  {
   "cell_type": "code",
   "execution_count": 185,
   "metadata": {},
   "outputs": [],
   "source": [
    "# get titles\n",
    "fic_table_header = fic_documents.find('thead')\n",
    "fic_header = fic_documents.find_all('th')\n",
    "fic_header = [x.text.strip() for x in fic_header]\n",
    "\n",
    "# get body\n",
    "fic_table_body = case_soup.find('tbody')\n",
    "fic_rows = fic_table_body.find_all('tr')\n",
    "fic_table_list = []\n",
    "for row in fic_rows:\n",
    "    fic_cols=row.find_all('td')\n",
    "    fic_cols=[x.text.strip() for x in fic_cols]\n",
    "    fic_table_list.append(fic_cols)\n",
    "    \n",
    "# make a table\n",
    "fic_summary_table = pd.DataFrame(fic_table_list)\n",
    "fic_summary_table.columns = fic_header"
   ]
  },
  {
   "cell_type": "code",
   "execution_count": 295,
   "metadata": {},
   "outputs": [],
   "source": [
    "# fic documents pdf\n",
    "fic_links = fic_documents.find_all(\"tr\", {\"onclick\" : re.compile(\"^window.location\")})\n",
    "\n",
    "fic_links_list = []\n",
    "for x in fic_links:\n",
    "    x = \"http://securities.stanford.edu/\" + x.get(\"onclick\").replace(\"window.location=\",\"\").replace(\"'\",\"\")\n",
    "    fic_links_list.append(x)\n",
    "    \n",
    "case_dict[\"fic_links_list\"] = fic_links_list"
   ]
  },
  {
   "cell_type": "code",
   "execution_count": 296,
   "metadata": {},
   "outputs": [],
   "source": [
    "case_dict[\"fic_summary_table\"] = fic_summary_table"
   ]
  },
  {
   "cell_type": "code",
   "execution_count": 297,
   "metadata": {},
   "outputs": [],
   "source": [
    "case_dict[\"fic_summary_table\"]['link'] = pd.DataFrame(fic_links_list)"
   ]
  },
  {
   "cell_type": "code",
   "execution_count": 298,
   "metadata": {},
   "outputs": [
    {
     "data": {
      "text/html": [
       "<div>\n",
       "<style scoped>\n",
       "    .dataframe tbody tr th:only-of-type {\n",
       "        vertical-align: middle;\n",
       "    }\n",
       "\n",
       "    .dataframe tbody tr th {\n",
       "        vertical-align: top;\n",
       "    }\n",
       "\n",
       "    .dataframe thead th {\n",
       "        text-align: right;\n",
       "    }\n",
       "</style>\n",
       "<table border=\"1\" class=\"dataframe\">\n",
       "  <thead>\n",
       "    <tr style=\"text-align: right;\">\n",
       "      <th></th>\n",
       "      <th>No</th>\n",
       "      <th>Document Title</th>\n",
       "      <th>Filing Date</th>\n",
       "      <th>link</th>\n",
       "    </tr>\n",
       "  </thead>\n",
       "  <tbody>\n",
       "    <tr>\n",
       "      <th>0</th>\n",
       "      <td>1</td>\n",
       "      <td>Class Action Complaint</td>\n",
       "      <td>07/07/2020</td>\n",
       "      <td>http://securities.stanford.edu/filings-documen...</td>\n",
       "    </tr>\n",
       "    <tr>\n",
       "      <th>1</th>\n",
       "      <td>2</td>\n",
       "      <td>U.S. District Court Civil Docket</td>\n",
       "      <td>07/07/2020</td>\n",
       "      <td>http://securities.stanford.edu/filings-documen...</td>\n",
       "    </tr>\n",
       "  </tbody>\n",
       "</table>\n",
       "</div>"
      ],
      "text/plain": [
       "  No                    Document Title Filing Date  \\\n",
       "0  1            Class Action Complaint  07/07/2020   \n",
       "1  2  U.S. District Court Civil Docket  07/07/2020   \n",
       "\n",
       "                                                link  \n",
       "0  http://securities.stanford.edu/filings-documen...  \n",
       "1  http://securities.stanford.edu/filings-documen...  "
      ]
     },
     "execution_count": 298,
     "metadata": {},
     "output_type": "execute_result"
    }
   ],
   "source": [
    "case_dict[\"fic_summary_table\"]"
   ]
  },
  {
   "cell_type": "code",
   "execution_count": 299,
   "metadata": {},
   "outputs": [
    {
     "data": {
      "text/plain": [
       "['http://securities.stanford.edu/filings-documents/1074/TGGI00_02/202077_f01c_20CV81063.pdf',\n",
       " 'http://securities.stanford.edu/filings-documents/1074/TGGI00_02/202077_f02k_20CV81063.pdf']"
      ]
     },
     "execution_count": 299,
     "metadata": {},
     "output_type": "execute_result"
    }
   ],
   "source": [
    "case_dict[\"fic_links_list\"]"
   ]
  },
  {
   "cell_type": "code",
   "execution_count": 300,
   "metadata": {},
   "outputs": [
    {
     "data": {
      "text/plain": [
       "{'Case Name': 'The GEO Group, Inc. Securities Litigation',\n",
       " 'Case Brief': 'According to the Complaint, GEO Group is purportedly the first fully integrated equity real estate investment trust specializing in the design, financing, development, and operation of secure facilities, processing centers, and community reentry centers in the U.S., Australia, South Africa, and the United Kingdom. GEO Group is also purportedly a leading provider of enhanced in-custody rehabilitation, post-release support, electronic monitoring, and community-based programs. The Company’s worldwide operation include the ownership and/or management of, among other facilities, halfway houses in the U.S.The Complaint alleges that throughout the Class Period, Defendants made materially false and misleading statements regarding the Company’s business, operational and compliance policies. Specifically, Defendants made false and/or misleading statements and/or failed to disclose that: (i) GEO Group maintained woefully ineffective COVID-19 response procedures; (ii) those inadequate procedures subjected residents of the Company’s halfway houses to significant health risks; (iii) accordingly, the Company was vulnerable to significant financial and/or reputational harm; and (iv) as a result, the Company’s public statements were materially false and misleading at all relevant times.',\n",
       " 'Case Status': 'ONGOING',\n",
       " 'Date of last review': '07/07/2020',\n",
       " 'Plaintiffs': ['Bronstein, Gewirtz & Grossman, LLC (New York)',\n",
       "  'Pomerantz LLP (New York)',\n",
       "  'Shepherd, Finkelman, Miller & Shah, LLC (Ft. Lauderdale)'],\n",
       " 'Sector': 'Services',\n",
       " 'Industry': 'Real Estate Operations',\n",
       " 'Headquarters': 'United States',\n",
       " 'Ticker Symbol': 'GEO',\n",
       " 'Company Market': 'New York SE',\n",
       " 'Market Status': 'Public (Listed)',\n",
       " 'COURT': 'S.D. Florida',\n",
       " 'DOCKET #': '20-CV-81063',\n",
       " 'JUDGE': 'Hon. Rodney Smith',\n",
       " 'DATE FILED': '07/07/2020',\n",
       " 'CLASS PERIOD START': '02/27/2020',\n",
       " 'CLASS PERIOD END': '06/16/2020',\n",
       " 'fic_summary_table':   No                    Document Title Filing Date  \\\n",
       " 0  1            Class Action Complaint  07/07/2020   \n",
       " 1  2  U.S. District Court Civil Docket  07/07/2020   \n",
       " \n",
       "                                                 link  \n",
       " 0  http://securities.stanford.edu/filings-documen...  \n",
       " 1  http://securities.stanford.edu/filings-documen...  ,\n",
       " 'fic_doc_links': 'http://securities.stanford.edu/filings-documents/1074/TGGI00_02/202077_f02k_20CV81063.pdf',\n",
       " 'fic_links_list': ['http://securities.stanford.edu/filings-documents/1074/TGGI00_02/202077_f01c_20CV81063.pdf',\n",
       "  'http://securities.stanford.edu/filings-documents/1074/TGGI00_02/202077_f02k_20CV81063.pdf'],\n",
       " 'url': 'http://securities.stanford.edu/filings-case.html?id=107458'}"
      ]
     },
     "execution_count": 300,
     "metadata": {},
     "output_type": "execute_result"
    }
   ],
   "source": [
    "case_dict"
   ]
  },
  {
   "cell_type": "markdown",
   "metadata": {},
   "source": [
    "# Bulk download pdfs"
   ]
  },
  {
   "cell_type": "code",
   "execution_count": 264,
   "metadata": {},
   "outputs": [],
   "source": [
    "import os\n",
    "import requests\n",
    "from time import time\n",
    "from multiprocessing.pool import ThreadPool"
   ]
  },
  {
   "cell_type": "code",
   "execution_count": 307,
   "metadata": {},
   "outputs": [],
   "source": [
    "folder = \"/Users/yuchen.zhang/Documents/Projects/Class_Action/class_action_git/data/Case Filings\""
   ]
  },
  {
   "cell_type": "code",
   "execution_count": 308,
   "metadata": {},
   "outputs": [],
   "source": [
    "def url_response(url):\n",
    "    path, url = url\n",
    "    r = requests.get(url, stream = True)\n",
    "    \n",
    "    with open(folder + \"/\" + path,\"wb\") as pdf: \n",
    "        for chunk in r.iter_content(chunk_size=1024): \n",
    "\n",
    "             # writing one chunk at a time to pdf file \n",
    "             if chunk: \n",
    "                 pdf.write(chunk)"
   ]
  },
  {
   "cell_type": "code",
   "execution_count": 316,
   "metadata": {},
   "outputs": [
    {
     "data": {
      "text/plain": [
       "'/Users/yuchen.zhang/Documents/Projects/Class_Action/class_action_git/data/Case Filings/Class Action Complaint_07/07/2020'"
      ]
     },
     "execution_count": 316,
     "metadata": {},
     "output_type": "execute_result"
    }
   ],
   "source": [
    "folder + \"/\" + \"Class Action Complaint_07/07/2020\""
   ]
  },
  {
   "cell_type": "code",
   "execution_count": 304,
   "metadata": {},
   "outputs": [
    {
     "data": {
      "text/html": [
       "<div>\n",
       "<style scoped>\n",
       "    .dataframe tbody tr th:only-of-type {\n",
       "        vertical-align: middle;\n",
       "    }\n",
       "\n",
       "    .dataframe tbody tr th {\n",
       "        vertical-align: top;\n",
       "    }\n",
       "\n",
       "    .dataframe thead th {\n",
       "        text-align: right;\n",
       "    }\n",
       "</style>\n",
       "<table border=\"1\" class=\"dataframe\">\n",
       "  <thead>\n",
       "    <tr style=\"text-align: right;\">\n",
       "      <th></th>\n",
       "      <th>No</th>\n",
       "      <th>Document Title</th>\n",
       "      <th>Filing Date</th>\n",
       "      <th>link</th>\n",
       "    </tr>\n",
       "  </thead>\n",
       "  <tbody>\n",
       "    <tr>\n",
       "      <th>0</th>\n",
       "      <td>1</td>\n",
       "      <td>Class Action Complaint</td>\n",
       "      <td>07/07/2020</td>\n",
       "      <td>http://securities.stanford.edu/filings-documen...</td>\n",
       "    </tr>\n",
       "    <tr>\n",
       "      <th>1</th>\n",
       "      <td>2</td>\n",
       "      <td>U.S. District Court Civil Docket</td>\n",
       "      <td>07/07/2020</td>\n",
       "      <td>http://securities.stanford.edu/filings-documen...</td>\n",
       "    </tr>\n",
       "  </tbody>\n",
       "</table>\n",
       "</div>"
      ],
      "text/plain": [
       "  No                    Document Title Filing Date  \\\n",
       "0  1            Class Action Complaint  07/07/2020   \n",
       "1  2  U.S. District Court Civil Docket  07/07/2020   \n",
       "\n",
       "                                                link  \n",
       "0  http://securities.stanford.edu/filings-documen...  \n",
       "1  http://securities.stanford.edu/filings-documen...  "
      ]
     },
     "execution_count": 304,
     "metadata": {},
     "output_type": "execute_result"
    }
   ],
   "source": [
    "case_dict[\"fic_summary_table\"][]"
   ]
  },
  {
   "cell_type": "code",
   "execution_count": 320,
   "metadata": {},
   "outputs": [
    {
     "name": "stdout",
     "output_type": "stream",
     "text": [
      "Class Action Complaint_07072020\n",
      "U.S. District Court Civil Docket_07072020\n"
     ]
    }
   ],
   "source": [
    "for i, j in case_dict[\"fic_summary_table\"].iterrows():\n",
    "    filename = case_dictcase_dict[\"fic_summary_table\"][\"Document Title\"][i] + \"_\" + case_dict[\"fic_summary_table\"][\"Filing Date\"][i].replace(\"/\",\"\")\n",
    "    print(filename)\n",
    "    url_response([filename,\n",
    "                  case_dict[\"fic_summary_table\"][\"link\"][i]])"
   ]
  }
 ],
 "metadata": {
  "kernelspec": {
   "display_name": "Python 3",
   "language": "python",
   "name": "python3"
  },
  "language_info": {
   "codemirror_mode": {
    "name": "ipython",
    "version": 3
   },
   "file_extension": ".py",
   "mimetype": "text/x-python",
   "name": "python",
   "nbconvert_exporter": "python",
   "pygments_lexer": "ipython3",
   "version": "3.7.6"
  }
 },
 "nbformat": 4,
 "nbformat_minor": 4
}
